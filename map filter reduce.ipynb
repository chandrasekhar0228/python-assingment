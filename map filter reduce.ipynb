{
 "cells": [
  {
   "cell_type": "code",
   "execution_count": 1,
   "id": "380a7dfc-fb08-49a0-9364-c98ca473dca2",
   "metadata": {},
   "outputs": [],
   "source": [
    "#1. Convert a list of strings to uppercase\n",
    "\n",
    "#words = ['python', 'is', 'awesome']\n",
    "#Output: ['PYTHON', 'IS', 'AWES\n",
    "words = ['python', 'is', 'awesome']\n",
    "uppercase=list(map(str.upper,words))"
   ]
  },
  {
   "cell_type": "code",
   "execution_count": 2,
   "id": "627528f6-c9a5-479d-a884-29ec6a8b8683",
   "metadata": {},
   "outputs": [
    {
     "data": {
      "text/plain": [
       "['PYTHON', 'IS', 'AWESOME']"
      ]
     },
     "execution_count": 2,
     "metadata": {},
     "output_type": "execute_result"
    }
   ],
   "source": [
    "uppercase"
   ]
  },
  {
   "cell_type": "code",
   "execution_count": 3,
   "id": "010ae0fb-99ca-47f4-9b1b-1ff5eae8879f",
   "metadata": {},
   "outputs": [],
   "source": [
    "#2. Square all numbers in a list\n",
    "\n",
    "#numbers = [1, 2, 3, 4]\n",
    "#utput: [1, 4, 9, 16]\n",
    "numbers = [1, 2, 3, 4]\n",
    "square=list(map(lambda x:x**2,numbers))"
   ]
  },
  {
   "cell_type": "code",
   "execution_count": 4,
   "id": "e7415819-562c-46d9-92ae-a0d0501861c3",
   "metadata": {},
   "outputs": [
    {
     "data": {
      "text/plain": [
       "[1, 4, 9, 16]"
      ]
     },
     "execution_count": 4,
     "metadata": {},
     "output_type": "execute_result"
    }
   ],
   "source": [
    "square"
   ]
  },
  {
   "cell_type": "code",
   "execution_count": 5,
   "id": "711ccf0e-cea2-4492-a39a-43dd56993ff4",
   "metadata": {},
   "outputs": [],
   "source": [
    "#3. Convert a list of integers to strings\n",
    "\n",
    "#nums = [1, 2, 3]\n",
    "#Output: ['1', '2', '3']\n",
    "nums = [1, 2, 3]\n",
    "string = list(map(str, nums))"
   ]
  },
  {
   "cell_type": "code",
   "execution_count": 6,
   "id": "f1341e7c-89db-45f7-972b-0fcdfcacf415",
   "metadata": {},
   "outputs": [
    {
     "data": {
      "text/plain": [
       "['1', '2', '3']"
      ]
     },
     "execution_count": 6,
     "metadata": {},
     "output_type": "execute_result"
    }
   ],
   "source": [
    "string"
   ]
  },
  {
   "cell_type": "code",
   "execution_count": 7,
   "id": "29006ffb-66d4-407c-bc63-9c9541cf496f",
   "metadata": {},
   "outputs": [],
   "source": [
    "#4. Add 5 to each element in a list\n",
    "#marks = [50, 60, 70]\n",
    "#Output: [55, 65, 75]\n",
    "marks=[50,60,70]\n",
    "add=list(map(lambda x: x+5,marks))"
   ]
  },
  {
   "cell_type": "code",
   "execution_count": 8,
   "id": "35269f98-0790-4acb-b252-d0ae44ca39cc",
   "metadata": {},
   "outputs": [
    {
     "data": {
      "text/plain": [
       "[55, 65, 75]"
      ]
     },
     "execution_count": 8,
     "metadata": {},
     "output_type": "execute_result"
    }
   ],
   "source": [
    "add"
   ]
  },
  {
   "cell_type": "code",
   "execution_count": 9,
   "id": "7a4abda6-f16b-414a-967c-94fc3554cc25",
   "metadata": {},
   "outputs": [],
   "source": [
    "#5. Get lengths of all strings in a list names = ['apple', 'banana', 'kiwi'] Output: [5, 6, 4]\n",
    "names = ['apple', 'banana', 'kiwi']\n",
    "fruits=list(map(len,names))"
   ]
  },
  {
   "cell_type": "code",
   "execution_count": 10,
   "id": "5eccfab7-ae29-4d8f-a044-3d5e9351f1d9",
   "metadata": {},
   "outputs": [
    {
     "data": {
      "text/plain": [
       "[5, 6, 4]"
      ]
     },
     "execution_count": 10,
     "metadata": {},
     "output_type": "execute_result"
    }
   ],
   "source": [
    "fruits"
   ]
  },
  {
   "cell_type": "code",
   "execution_count": 11,
   "id": "566fc9c6-5c3d-48ae-8ae9-a3d7084e3eff",
   "metadata": {},
   "outputs": [],
   "source": [
    "#1 Filter out even numbers nums = [1, 2, 3, 4, 5, 6] Output: [2, 4, 6]\n",
    "nums = [1, 2, 3, 4, 5, 6] \n",
    "even=list(filter(lambda x:x%2==0,nums))"
   ]
  },
  {
   "cell_type": "code",
   "execution_count": 12,
   "id": "fb7b582b-0cc1-4f37-9b2e-f901ac4c544c",
   "metadata": {},
   "outputs": [
    {
     "data": {
      "text/plain": [
       "[2, 4, 6]"
      ]
     },
     "execution_count": 12,
     "metadata": {},
     "output_type": "execute_result"
    }
   ],
   "source": [
    "even"
   ]
  },
  {
   "cell_type": "code",
   "execution_count": 13,
   "id": "185e5386-f6f0-418e-9c5e-aacc145db754",
   "metadata": {},
   "outputs": [],
   "source": [
    "#2 Keep only strings with more than 3 characters words = ['hi', 'hello', 'hey', 'sun'] Output: ['hello']\n",
    "words = ['hi', 'hello', 'hey', 'sun']\n",
    "greet=list(filter(lambda x: len(x) > 3,words))"
   ]
  },
  {
   "cell_type": "code",
   "execution_count": 14,
   "id": "a0d99ad6-cb15-4ace-8862-ddbd76068931",
   "metadata": {},
   "outputs": [
    {
     "data": {
      "text/plain": [
       "['hello']"
      ]
     },
     "execution_count": 14,
     "metadata": {},
     "output_type": "execute_result"
    }
   ],
   "source": [
    "greet"
   ]
  },
  {
   "cell_type": "code",
   "execution_count": 15,
   "id": "08525149-41db-4b51-b538-ebbdaa2450d2",
   "metadata": {},
   "outputs": [],
   "source": [
    "#3 Remove empty strings from a list data = ['Python', '', 'Java', '', 'C++'] Output: ['Python', 'Java', 'C++']\n",
    "data = ['Python', '', 'Java', '', 'C++']\n",
    "empty=list(filter(None,data))"
   ]
  },
  {
   "cell_type": "code",
   "execution_count": 16,
   "id": "af4ed8b5-e058-431b-b1a2-5ee301d78511",
   "metadata": {},
   "outputs": [
    {
     "data": {
      "text/plain": [
       "['Python', 'Java', 'C++']"
      ]
     },
     "execution_count": 16,
     "metadata": {},
     "output_type": "execute_result"
    }
   ],
   "source": [
    "empty"
   ]
  },
  {
   "cell_type": "code",
   "execution_count": 17,
   "id": "6a874521-3fb5-4b2d-8d80-8ba32eecedc7",
   "metadata": {},
   "outputs": [],
   "source": [
    "#4 Get names that start with 'A' names = ['Alice', 'Bob', 'Angela', 'Tom'] Output: ['Alice', 'Angela']\n",
    "names = ['Alice', 'Bob', 'Angela', 'Tom']\n",
    "start=list(filter(lambda x:x.startswith('A'),names))"
   ]
  },
  {
   "cell_type": "code",
   "execution_count": 18,
   "id": "560f404b-305d-40e7-a640-9236ffb9784c",
   "metadata": {},
   "outputs": [
    {
     "data": {
      "text/plain": [
       "['Alice', 'Angela']"
      ]
     },
     "execution_count": 18,
     "metadata": {},
     "output_type": "execute_result"
    }
   ],
   "source": [
    "start"
   ]
  },
  {
   "cell_type": "code",
   "execution_count": 19,
   "id": "56c55163-8cf6-4fef-bf6b-68673a08daf0",
   "metadata": {},
   "outputs": [],
   "source": [
    "#5 Keep truthy values only items = [0, None, 'hello', False, 42, ''] Output: ['hello', 42]\n",
    "items = [0, None, 'hello', False, 42, '']\n",
    "truthy=list(filter(None,items))"
   ]
  },
  {
   "cell_type": "code",
   "execution_count": 20,
   "id": "3665cb26-d267-48b8-94cc-5f29289dc10b",
   "metadata": {},
   "outputs": [
    {
     "data": {
      "text/plain": [
       "['hello', 42]"
      ]
     },
     "execution_count": 20,
     "metadata": {},
     "output_type": "execute_result"
    }
   ],
   "source": [
    "truthy"
   ]
  },
  {
   "cell_type": "code",
   "execution_count": 21,
   "id": "a6057767-3e50-472e-aed2-d25470939b83",
   "metadata": {},
   "outputs": [],
   "source": [
    "#1 Sum of all numbers nums = [1, 2, 3, 4] Output: 10\n",
    "from functools import reduce\n",
    "nums = [1, 2, 3, 4]\n",
    "sum= reduce(lambda x, y: x + y, nums)"
   ]
  },
  {
   "cell_type": "code",
   "execution_count": 22,
   "id": "d47a18e6-8b0e-4be1-8fda-3f717a58f0d2",
   "metadata": {},
   "outputs": [
    {
     "data": {
      "text/plain": [
       "10"
      ]
     },
     "execution_count": 22,
     "metadata": {},
     "output_type": "execute_result"
    }
   ],
   "source": [
    "sum"
   ]
  },
  {
   "cell_type": "code",
   "execution_count": 23,
   "id": "9d4e5de8-ee15-4731-8cb8-c585b0ab9469",
   "metadata": {},
   "outputs": [],
   "source": [
    "#2 Product of all even numbers nums = [1, 2, 3, 4, 5] Filter even → [2, 4] Reduce → 8\n",
    "nums = [1, 2, 3, 4, 5]\n",
    "even=list(filter(lambda x: x%2==0,nums))\n",
    "product = reduce(lambda x, y: x * y,even)"
   ]
  },
  {
   "cell_type": "code",
   "execution_count": 24,
   "id": "9a948169-140c-4795-b127-4d0063d20e59",
   "metadata": {},
   "outputs": [
    {
     "data": {
      "text/plain": [
       "8"
      ]
     },
     "execution_count": 24,
     "metadata": {},
     "output_type": "execute_result"
    }
   ],
   "source": [
    "product"
   ]
  },
  {
   "cell_type": "code",
   "execution_count": 25,
   "id": "6987a3ca-ea4d-4ec4-9c2d-b6bd57e0fe0c",
   "metadata": {},
   "outputs": [],
   "source": [
    "#3 Find the longest word words = ['apple', 'banana', 'kiwi'] Output: 'banana'\n",
    "words = ['apple', 'banana', 'kiwi']\n",
    "longest = reduce(lambda x, y: x if len(x) > len(y) else y, words)"
   ]
  },
  {
   "cell_type": "code",
   "execution_count": 26,
   "id": "4da82874-202e-443a-9753-6392b1de2e63",
   "metadata": {},
   "outputs": [
    {
     "data": {
      "text/plain": [
       "'banana'"
      ]
     },
     "execution_count": 26,
     "metadata": {},
     "output_type": "execute_result"
    }
   ],
   "source": [
    "longest"
   ]
  },
  {
   "cell_type": "code",
   "execution_count": 27,
   "id": "24194bb1-98fa-4028-9eff-c4fc37115ad5",
   "metadata": {},
   "outputs": [],
   "source": [
    "#4 Join list of strings into one sentence words = ['Python', 'is', 'fun'] Output: 'Python is fun'\n",
    "words = ['Python', 'is', 'fun']\n",
    "sentence=reduce(lambda x,y:x +\" \"+y,words)"
   ]
  },
  {
   "cell_type": "code",
   "execution_count": 28,
   "id": "50cdc8ca-ebd2-4a80-a73c-f5ee49e3a875",
   "metadata": {},
   "outputs": [
    {
     "data": {
      "text/plain": [
       "'Python is fun'"
      ]
     },
     "execution_count": 28,
     "metadata": {},
     "output_type": "execute_result"
    }
   ],
   "source": [
    "sentence"
   ]
  },
  {
   "cell_type": "code",
   "execution_count": 29,
   "id": "77305866-0e50-44b0-a0df-14d38c8d10f7",
   "metadata": {},
   "outputs": [],
   "source": [
    "#5 Create number from digits digits = [1, 2, 3, 4] Output: 1234\n",
    "digits = [1, 2, 3, 4]\n",
    "number = reduce(lambda x, y: x * 10 + y, digits)"
   ]
  },
  {
   "cell_type": "code",
   "execution_count": 30,
   "id": "e179f77c-3b5e-4555-a1d6-b56e2240b587",
   "metadata": {},
   "outputs": [
    {
     "data": {
      "text/plain": [
       "1234"
      ]
     },
     "execution_count": 30,
     "metadata": {},
     "output_type": "execute_result"
    }
   ],
   "source": [
    "number"
   ]
  },
  {
   "cell_type": "code",
   "execution_count": null,
   "id": "98325727-d6bc-4c4a-a4d2-89a95991cb0a",
   "metadata": {},
   "outputs": [],
   "source": []
  }
 ],
 "metadata": {
  "kernelspec": {
   "display_name": "Python 3 (ipykernel)",
   "language": "python",
   "name": "python3"
  },
  "language_info": {
   "codemirror_mode": {
    "name": "ipython",
    "version": 3
   },
   "file_extension": ".py",
   "mimetype": "text/x-python",
   "name": "python",
   "nbconvert_exporter": "python",
   "pygments_lexer": "ipython3",
   "version": "3.13.5"
  }
 },
 "nbformat": 4,
 "nbformat_minor": 5
}
