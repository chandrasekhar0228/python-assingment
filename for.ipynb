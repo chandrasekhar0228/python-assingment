{
 "cells": [
  {
   "cell_type": "code",
   "execution_count": 1,
   "id": "0e5ab162-61d8-4d19-8563-6176213125ef",
   "metadata": {},
   "outputs": [
    {
     "name": "stdout",
     "output_type": "stream",
     "text": [
      "[12.5, 23.0, 56.78]\n"
     ]
    }
   ],
   "source": [
    "#1. Filter Floats from a List\n",
    "#Write a program that extracts all the floating-point numbers from a list containing mixed data types. The program should create a new list containing only the floats.\n",
    "\n",
    "l = [12.5, 45, \"hello\", 23.0, 56.78, 90, \"world\"]\n",
    "l1=[]\n",
    "for i in l:\n",
    "    if type(i)==float:\n",
    "        l1.append(i)\n",
    "print(l1)"
   ]
  },
  {
   "cell_type": "code",
   "execution_count": 2,
   "id": "7665f350-587a-4a93-8f3d-c47b51566314",
   "metadata": {},
   "outputs": [
    {
     "name": "stdout",
     "output_type": "stream",
     "text": [
      "['Python', 'Coding', 'AI']\n"
     ]
    }
   ],
   "source": [
    "l = [1, \"Python\", 3.14, \"Coding\", 42, \"AI\"]\n",
    "l1=[]\n",
    "for i in l:\n",
    "    if type(i)==str:\n",
    "        l1.append(i)\n",
    "print(l1)"
   ]
  },
  {
   "cell_type": "code",
   "execution_count": 3,
   "id": "9e6cfe71-8135-488f-8d47-44add8ce9a8d",
   "metadata": {},
   "outputs": [
    {
     "name": "stdout",
     "output_type": "stream",
     "text": [
      "['data', 4.5, True, None]\n"
     ]
    }
   ],
   "source": [
    "#3. Filter Non-Integers from a List\n",
    "#Write a program to create a new list that contains all elements from a given list except for integers.\n",
    "l = [1, 2, 3, \"data\", 4.5, True, None]\n",
    "l1=[]\n",
    "for i in l:\n",
    "    if type(i)!=int:\n",
    "        l1.append(i)\n",
    "print(l1)\n",
    "           "
   ]
  },
  {
   "cell_type": "code",
   "execution_count": 4,
   "id": "555a94e0-050f-4cca-81a1-980941cd5fc6",
   "metadata": {},
   "outputs": [
    {
     "name": "stdout",
     "output_type": "stream",
     "text": [
      "[True, False]\n"
     ]
    }
   ],
   "source": [
    "#4. Filter Boolean Values from a List\n",
    "#Write a program to extract all the boolean values (True or False) from a mixed list.\n",
    "l = [True, 42, \"yes\", False, 3.14, \"AI\"]\n",
    "l1=[]\n",
    "for i in l:\n",
    "    if type(i)==bool:\n",
    "        l1.append(i)\n",
    "print(l1)"
   ]
  },
  {
   "cell_type": "code",
   "execution_count": 6,
   "id": "a77e2cbc-81c6-4392-9b8c-815a0cda1f1b",
   "metadata": {},
   "outputs": [
    {
     "name": "stdout",
     "output_type": "stream",
     "text": [
      "[2, 4, 6]\n"
     ]
    }
   ],
   "source": [
    "#5. Filter Even Integers from a List\n",
    "#Write a program that filters only the even integers from a mixed list and stores them in a new list.\n",
    "l = [1, 2, 3, 4, 5, 6, \"even\", 7.8]\n",
    "l1=[]\n",
    "for i in l:\n",
    "    if type(i)==int and i % 2 == 0:\n",
    "        l1.append(i)\n",
    "print(l1)"
   ]
  },
  {
   "cell_type": "code",
   "execution_count": 7,
   "id": "0a77e236-84ec-49ca-bac1-3b11be7ebaa1",
   "metadata": {},
   "outputs": [
    {
     "name": "stdout",
     "output_type": "stream",
     "text": [
      "[21, 43, 65]\n"
     ]
    }
   ],
   "source": [
    "#6. Filter Odd Integers from a List\n",
    "#Write a program that extracts only the odd integers from a mixed list into a new list.\n",
    "l = [10, 21, 32, 43, \"odd\", 54, 65]\n",
    "l1=[]\n",
    "for i in l:\n",
    "    if type(i)==int and i % 2==1:\n",
    "        l1.append(i)\n",
    "print(l1)"
   ]
  },
  {
   "cell_type": "code",
   "execution_count": 8,
   "id": "9ec45c9f-1075-4c9a-8387-12464e6e099a",
   "metadata": {},
   "outputs": [
    {
     "name": "stdout",
     "output_type": "stream",
     "text": [
      "['apple', 'hello']\n"
     ]
    }
   ],
   "source": [
    "#7. Filter Elements of a Specific Length\n",
    "#Write a program to filter all string elements with a length greater than 4 characters from a mixed list.\n",
    "l = [\"apple\", \"AI\", 123, \"data\", \"hello\", 3.14]\n",
    "l1=[]\n",
    "for i in l:\n",
    "    if type(i)==str and len(i)>4:\n",
    "        l1.append(i)\n",
    "print(l1)"
   ]
  },
  {
   "cell_type": "code",
   "execution_count": 9,
   "id": "deb141f5-2b1a-4fdd-9c75-9b7e7025da31",
   "metadata": {},
   "outputs": [
    {
     "name": "stdout",
     "output_type": "stream",
     "text": [
      "[1, 'Python', 45.6, 'data']\n"
     ]
    }
   ],
   "source": [
    "#8. Filter None Values\n",
    "#Write a program to remove all None values from a mixed list and store the remaining elements in a new list.\n",
    "l = [1, None, \"Python\", None, 45.6, \"data\"]\n",
    "l1=[]\n",
    "for i in l:\n",
    "    if i is not None:\n",
    "        l1.append(i)\n",
    "print(l1)"
   ]
  },
  {
   "cell_type": "code",
   "execution_count": 10,
   "id": "4815d36c-a881-4a11-a1d1-b4def64d20b1",
   "metadata": {},
   "outputs": [
    {
     "name": "stdout",
     "output_type": "stream",
     "text": [
      "['AI', 'world']\n"
     ]
    }
   ],
   "source": [
    "#9. Filter Alphabetic Strings Only\n",
    "#Write a program that extracts only alphabetic strings (strings without numbers or special characters) from a mixed list.\n",
    "l = [\"AI\", \"Data123\", \"hello!\", \"world\", 42, \"Python3\"]\n",
    "l1=[]\n",
    "for i in l:\n",
    "    if type(i)==str and i.isalpha():\n",
    "        l1.append(i)\n",
    "print(l1)"
   ]
  },
  {
   "cell_type": "code",
   "execution_count": 16,
   "id": "c7ba807e-55c2-4766-b62b-c989619ca6d2",
   "metadata": {},
   "outputs": [
    {
     "name": "stdin",
     "output_type": "stream",
     "text": [
      "Enter data type (int, float, str):  int\n"
     ]
    },
    {
     "name": "stdout",
     "output_type": "stream",
     "text": [
      "[1, 3]\n"
     ]
    }
   ],
   "source": [
    "#10. Filter Elements of Specific Data Type\n",
    "#Write a program that asks the user to input a data type (e.g., int, float, str) and filters elements of that type from a given mixed lis\n",
    "\n",
    "l = [1, 2.5, \"hello\", 3, 4.0, \"world\"]\n",
    "l1 = []\n",
    "dtype = input(\"Enter data type (int, float, str): \")\n",
    "if dtype == \"int\":\n",
    "    datatype = int\n",
    "elif dtype == \"float\":\n",
    "    datatype = float\n",
    "elif dtype == \"str\":\n",
    "    datatype = str\n",
    "else:\n",
    "    print(\"Invalid data type entered.\")\n",
    "    datatype = None\n",
    "\n",
    "# Filter only if a valid type was entered\n",
    "if datatype:\n",
    "    for i in l:\n",
    "        if type(i) == datatype:\n",
    "            l1.append(i)\n",
    "    print( l1)"
   ]
  },
  {
   "cell_type": "code",
   "execution_count": null,
   "id": "94a83eec-ab96-4ce2-99e3-3f2ce8ba0edf",
   "metadata": {},
   "outputs": [],
   "source": []
  }
 ],
 "metadata": {
  "kernelspec": {
   "display_name": "Python 3 (ipykernel)",
   "language": "python",
   "name": "python3"
  },
  "language_info": {
   "codemirror_mode": {
    "name": "ipython",
    "version": 3
   },
   "file_extension": ".py",
   "mimetype": "text/x-python",
   "name": "python",
   "nbconvert_exporter": "python",
   "pygments_lexer": "ipython3",
   "version": "3.13.5"
  }
 },
 "nbformat": 4,
 "nbformat_minor": 5
}
