{
 "cells": [
  {
   "cell_type": "code",
   "execution_count": 1,
   "id": "507bb2c8-1c89-4348-b137-23cd184fec81",
   "metadata": {},
   "outputs": [
    {
     "name": "stdout",
     "output_type": "stream",
     "text": [
      "1\n",
      "2\n",
      "3\n",
      "4\n",
      "5\n",
      "6\n",
      "7\n",
      "8\n",
      "9\n",
      "10\n"
     ]
    }
   ],
   "source": [
    "#1 Print Numbers from 1 to 10 Expected Output: 1 2 3 ... 10\n",
    "i=1\n",
    "while i<=10:\n",
    "    print(i)\n",
    "    i+=1\n"
   ]
  },
  {
   "cell_type": "code",
   "execution_count": 2,
   "id": "368132d0-bc45-4a5d-824f-43d8d1985b81",
   "metadata": {},
   "outputs": [
    {
     "name": "stdin",
     "output_type": "stream",
     "text": [
      " 5\n"
     ]
    },
    {
     "name": "stdout",
     "output_type": "stream",
     "text": [
      "1\n",
      "2\n",
      "3\n",
      "4\n",
      "5\n",
      "15\n"
     ]
    }
   ],
   "source": [
    "#2 Sum of Numbers from 1 to N Input: 5 Expected Output: 15 (1+2+3+4+5)\n",
    "n=int(input())\n",
    "i=1\n",
    "sum=0\n",
    "while i<=n:\n",
    "    print(i)\n",
    "    sum+=i\n",
    "    i+=1\n",
    "print(sum)"
   ]
  },
  {
   "cell_type": "code",
   "execution_count": 3,
   "id": "f14162a8-8dbe-4848-abe3-c4f806389e9c",
   "metadata": {},
   "outputs": [
    {
     "name": "stdin",
     "output_type": "stream",
     "text": [
      " 10\n"
     ]
    },
    {
     "name": "stdout",
     "output_type": "stream",
     "text": [
      "2 4 6 8 10 "
     ]
    }
   ],
   "source": [
    "#3 Print Even Numbers up to N Input: 10 Expected Output: 2 4 6 8 10\n",
    "n=int(input())\n",
    "i=1\n",
    "while i <= n:\n",
    "    if i % 2 == 0:\n",
    "        print(i, end=' ')\n",
    "    i += 1"
   ]
  },
  {
   "cell_type": "code",
   "execution_count": 4,
   "id": "56bf12f2-72fb-489b-979d-baff0490f4a6",
   "metadata": {},
   "outputs": [
    {
     "name": "stdin",
     "output_type": "stream",
     "text": [
      " 12345\n"
     ]
    },
    {
     "name": "stdout",
     "output_type": "stream",
     "text": [
      "5\n"
     ]
    }
   ],
   "source": [
    "#4 Count Digits in a Number Input: 12345 Expected Output: 5\n",
    "n=int(input())\n",
    "count=0\n",
    "\n",
    "while n>0:\n",
    "    n=n//10\n",
    "    count+=1\n",
    "print(count)"
   ]
  },
  {
   "cell_type": "code",
   "execution_count": 5,
   "id": "6d4569ab-a11a-4191-b4d7-bc0bf0e74594",
   "metadata": {},
   "outputs": [
    {
     "name": "stdin",
     "output_type": "stream",
     "text": [
      " 1234\n"
     ]
    },
    {
     "name": "stdout",
     "output_type": "stream",
     "text": [
      "4321\n"
     ]
    }
   ],
   "source": [
    "#5 Reverse a Number Input: 1234 Output: 4321\n",
    "n=int(input())\n",
    "rev = 0\n",
    "\n",
    "while n > 0:\n",
    "    r = n % 10       \n",
    "    rev = rev * 10 + r  \n",
    "    n = n // 10      \n",
    "\n",
    "print(rev)\n",
    "\n"
   ]
  },
  {
   "cell_type": "code",
   "execution_count": 1,
   "id": "da4e1ec8-db55-4377-8fb8-0779f19be57d",
   "metadata": {},
   "outputs": [
    {
     "name": "stdin",
     "output_type": "stream",
     "text": [
      " 1771\n"
     ]
    },
    {
     "name": "stdout",
     "output_type": "stream",
     "text": [
      "True\n"
     ]
    }
   ],
   "source": [
    "#6 Check if a Number is a Palindrome Input: 121 Output: True\n",
    "n = int(input())\n",
    "original = n\n",
    "rev = 0\n",
    "\n",
    "while n > 0:\n",
    "    r = n % 10\n",
    "    rev = rev * 10 + r\n",
    "    n = n // 10\n",
    "\n",
    "if original == rev:\n",
    "    print(\"True\")\n",
    "else:\n",
    "    print(\"Not a Palindrome\")"
   ]
  },
  {
   "cell_type": "markdown",
   "id": "d428c273-fe5a-4994-99a9-6770aa80b70d",
   "metadata": {},
   "source": [
    "FUNCTIONS\n"
   ]
  },
  {
   "cell_type": "code",
   "execution_count": 2,
   "id": "b72749ea-e877-438e-97a4-dbb395233af7",
   "metadata": {},
   "outputs": [],
   "source": [
    "#1 Function to Add Two Numbers\n",
    "def add(a,b):\n",
    "    return a+b"
   ]
  },
  {
   "cell_type": "code",
   "execution_count": 3,
   "id": "e3d1cb92-e3d7-4d4d-a7fa-017c2a26bc6e",
   "metadata": {},
   "outputs": [
    {
     "data": {
      "text/plain": [
       "30"
      ]
     },
     "execution_count": 3,
     "metadata": {},
     "output_type": "execute_result"
    }
   ],
   "source": [
    "add(10,20)"
   ]
  },
  {
   "cell_type": "code",
   "execution_count": 4,
   "id": "fa2f7b1f-d9a0-4987-899a-6f450864f3f6",
   "metadata": {},
   "outputs": [],
   "source": [
    "#2 Function to Find Maximum of Three Numbers\n",
    "def max_of_three(a,b,c):\n",
    "    return max(a,b,c)"
   ]
  },
  {
   "cell_type": "code",
   "execution_count": 5,
   "id": "caf2f805-bdd7-49bc-a0a1-bbbe87fa687a",
   "metadata": {},
   "outputs": [
    {
     "data": {
      "text/plain": [
       "25"
      ]
     },
     "execution_count": 5,
     "metadata": {},
     "output_type": "execute_result"
    }
   ],
   "source": [
    "max_of_three(10,20,25)"
   ]
  },
  {
   "cell_type": "code",
   "execution_count": 6,
   "id": "8e25207d-9652-4939-8cc8-8fa015f6c907",
   "metadata": {},
   "outputs": [],
   "source": [
    "#3 Returns True if prime, else False\n",
    "def is_prime(n):\n",
    "    if n%2==1:\n",
    "        return True\n",
    "    else:\n",
    "        return False"
   ]
  },
  {
   "cell_type": "code",
   "execution_count": 7,
   "id": "df289846-af1c-4650-a2fb-9d51291a4853",
   "metadata": {},
   "outputs": [
    {
     "data": {
      "text/plain": [
       "True"
      ]
     },
     "execution_count": 7,
     "metadata": {},
     "output_type": "execute_result"
    }
   ],
   "source": [
    "is_prime(7)"
   ]
  },
  {
   "cell_type": "code",
   "execution_count": 8,
   "id": "83617dd1-fc2c-4ed4-bbcd-b6977ed144e2",
   "metadata": {},
   "outputs": [],
   "source": [
    "#4 Function to Calculate Factorial\n",
    "def factorial(n):\n",
    "    f = 1\n",
    "    while n > 0:\n",
    "        f = f * n\n",
    "        n = n - 1\n",
    "    return f"
   ]
  },
  {
   "cell_type": "code",
   "execution_count": 9,
   "id": "f756e83c-c0e6-4d8b-962a-422d633e1100",
   "metadata": {},
   "outputs": [
    {
     "data": {
      "text/plain": [
       "120"
      ]
     },
     "execution_count": 9,
     "metadata": {},
     "output_type": "execute_result"
    }
   ],
   "source": [
    "factorial(5)"
   ]
  },
  {
   "cell_type": "code",
   "execution_count": 10,
   "id": "595558b7-aa0b-4e67-b4c5-b6a05bca03e6",
   "metadata": {},
   "outputs": [],
   "source": [
    "#5 Function to Print Fibonacci Series up to N terms\n",
    "def fibonacci(n):\n",
    "    a, b = 0, 1\n",
    "    count = 0\n",
    "    while count < n:\n",
    "        print(a, end=' ')\n",
    "        a, b = b, a + b\n",
    "        count += 1\n",
    "\n"
   ]
  },
  {
   "cell_type": "code",
   "execution_count": 11,
   "id": "11003d6a-9e56-4682-9415-88ed97e950b7",
   "metadata": {},
   "outputs": [
    {
     "name": "stdout",
     "output_type": "stream",
     "text": [
      "0 1 1 2 3 5 "
     ]
    }
   ],
   "source": [
    "fibonacci(6)"
   ]
  },
  {
   "cell_type": "code",
   "execution_count": 5,
   "id": "5283c4e1-9bfe-47fd-9356-e2c3f839c29f",
   "metadata": {},
   "outputs": [],
   "source": [
    "#6 Function to Count Vowels in a String def count_vowels(s): # Your code here\n",
    "def count_vowels(s):\n",
    "    s=\"this is sekhar\"\n",
    "    vowels=\"aeiou\"\n",
    "    print(s)"
   ]
  },
  {
   "cell_type": "code",
   "execution_count": 8,
   "id": "3eca3bee-24e5-403e-b109-47f7c2bf2253",
   "metadata": {},
   "outputs": [
    {
     "ename": "NameError",
     "evalue": "name 's' is not defined",
     "output_type": "error",
     "traceback": [
      "\u001b[1;31m---------------------------------------------------------------------------\u001b[0m",
      "\u001b[1;31mNameError\u001b[0m                                 Traceback (most recent call last)",
      "Cell \u001b[1;32mIn[8], line 1\u001b[0m\n\u001b[1;32m----> 1\u001b[0m count_vowels(s)\n",
      "\u001b[1;31mNameError\u001b[0m: name 's' is not defined"
     ]
    }
   ],
   "source": [
    "count_vowels(s)"
   ]
  },
  {
   "cell_type": "code",
   "execution_count": null,
   "id": "a6b4970a-cdf9-401a-8500-0703a1810efc",
   "metadata": {},
   "outputs": [],
   "source": []
  }
 ],
 "metadata": {
  "kernelspec": {
   "display_name": "Python 3 (ipykernel)",
   "language": "python",
   "name": "python3"
  },
  "language_info": {
   "codemirror_mode": {
    "name": "ipython",
    "version": 3
   },
   "file_extension": ".py",
   "mimetype": "text/x-python",
   "name": "python",
   "nbconvert_exporter": "python",
   "pygments_lexer": "ipython3",
   "version": "3.13.5"
  }
 },
 "nbformat": 4,
 "nbformat_minor": 5
}
