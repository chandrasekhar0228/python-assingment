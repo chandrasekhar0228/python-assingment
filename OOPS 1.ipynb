{
 "cells": [
  {
   "cell_type": "markdown",
   "id": "ccf4c89d-1422-4fd1-9e61-f67b03bacb5d",
   "metadata": {},
   "source": [
    "1.Create a class called Car with attributes brand, model, and year. Create an object of this class and display its attributes.\n"
   ]
  },
  {
   "cell_type": "code",
   "execution_count": 2,
   "id": "5d33d312-cb1e-411f-ad84-f05c17208de3",
   "metadata": {},
   "outputs": [],
   "source": [
    "class car():\n",
    "    def __init__(self,brand,model,year):\n",
    "        self.brand=brand\n",
    "        self.model=model\n",
    "        self.year=year"
   ]
  },
  {
   "cell_type": "code",
   "execution_count": 3,
   "id": "5cfb2ff6-67c5-4bd9-bdca-3108ddad25a3",
   "metadata": {},
   "outputs": [],
   "source": [
    "car1=car('BMW','BMW 3 Series',2015)"
   ]
  },
  {
   "cell_type": "code",
   "execution_count": 5,
   "id": "82b9c7de-f929-4f2f-8cc2-b1628eb7d0a7",
   "metadata": {},
   "outputs": [
    {
     "data": {
      "text/plain": [
       "'BMW'"
      ]
     },
     "execution_count": 5,
     "metadata": {},
     "output_type": "execute_result"
    }
   ],
   "source": [
    "car1.brand"
   ]
  },
  {
   "cell_type": "code",
   "execution_count": 6,
   "id": "c0e31b77-e811-40af-a2f5-eacecc6dc1d7",
   "metadata": {},
   "outputs": [
    {
     "data": {
      "text/plain": [
       "'BMW 3 Series'"
      ]
     },
     "execution_count": 6,
     "metadata": {},
     "output_type": "execute_result"
    }
   ],
   "source": [
    "car1.model"
   ]
  },
  {
   "cell_type": "code",
   "execution_count": 7,
   "id": "885cac96-8f05-47c0-9f3f-8ec9df42cd6c",
   "metadata": {},
   "outputs": [
    {
     "data": {
      "text/plain": [
       "2015"
      ]
     },
     "execution_count": 7,
     "metadata": {},
     "output_type": "execute_result"
    }
   ],
   "source": [
    "car1.year"
   ]
  },
  {
   "cell_type": "code",
   "execution_count": 8,
   "id": "4b33c4e7-5c99-4b63-a0d1-969f439b7505",
   "metadata": {},
   "outputs": [
    {
     "data": {
      "text/plain": [
       "['__class__',\n",
       " '__delattr__',\n",
       " '__dict__',\n",
       " '__dir__',\n",
       " '__doc__',\n",
       " '__eq__',\n",
       " '__firstlineno__',\n",
       " '__format__',\n",
       " '__ge__',\n",
       " '__getattribute__',\n",
       " '__getstate__',\n",
       " '__gt__',\n",
       " '__hash__',\n",
       " '__init__',\n",
       " '__init_subclass__',\n",
       " '__le__',\n",
       " '__lt__',\n",
       " '__module__',\n",
       " '__ne__',\n",
       " '__new__',\n",
       " '__reduce__',\n",
       " '__reduce_ex__',\n",
       " '__repr__',\n",
       " '__setattr__',\n",
       " '__sizeof__',\n",
       " '__static_attributes__',\n",
       " '__str__',\n",
       " '__subclasshook__',\n",
       " '__weakref__',\n",
       " 'brand',\n",
       " 'model',\n",
       " 'year']"
      ]
     },
     "execution_count": 8,
     "metadata": {},
     "output_type": "execute_result"
    }
   ],
   "source": [
    "dir(car1)"
   ]
  },
  {
   "cell_type": "markdown",
   "id": "4ef07b32-c813-4a82-84dd-c795ee1774f7",
   "metadata": {},
   "source": [
    "2.Create a class Person with attributes name and age. Create an object and print its attributes."
   ]
  },
  {
   "cell_type": "code",
   "execution_count": 9,
   "id": "831bcfb7-35f8-41fa-9fb9-464557f90747",
   "metadata": {},
   "outputs": [],
   "source": [
    "class person():\n",
    "    def __init__(self,name,age):\n",
    "        self.name=name\n",
    "        self.age=age"
   ]
  },
  {
   "cell_type": "code",
   "execution_count": 11,
   "id": "f4d7ff62-3bc0-4457-9961-d40027c92321",
   "metadata": {},
   "outputs": [],
   "source": [
    "person1=person(\"Sekhar\",22)\n",
    "person2=person(\"Chakri\",20)"
   ]
  },
  {
   "cell_type": "code",
   "execution_count": 13,
   "id": "3e2ae39b-514c-4f7e-b409-cdc400158e16",
   "metadata": {},
   "outputs": [
    {
     "data": {
      "text/plain": [
       "'Sekhar'"
      ]
     },
     "execution_count": 13,
     "metadata": {},
     "output_type": "execute_result"
    }
   ],
   "source": [
    "person1.name"
   ]
  },
  {
   "cell_type": "code",
   "execution_count": 14,
   "id": "b0c8be95-87f5-46b2-b5d0-6f6ea8e8aa6d",
   "metadata": {},
   "outputs": [
    {
     "data": {
      "text/plain": [
       "'Chakri'"
      ]
     },
     "execution_count": 14,
     "metadata": {},
     "output_type": "execute_result"
    }
   ],
   "source": [
    "person2.name"
   ]
  },
  {
   "cell_type": "code",
   "execution_count": 15,
   "id": "f60eeded-cc9e-421e-9443-c1af942e24b5",
   "metadata": {},
   "outputs": [
    {
     "data": {
      "text/plain": [
       "22"
      ]
     },
     "execution_count": 15,
     "metadata": {},
     "output_type": "execute_result"
    }
   ],
   "source": [
    "person1.age"
   ]
  },
  {
   "cell_type": "code",
   "execution_count": 16,
   "id": "23b4301b-0634-4484-a18b-94a281889f51",
   "metadata": {},
   "outputs": [
    {
     "data": {
      "text/plain": [
       "20"
      ]
     },
     "execution_count": 16,
     "metadata": {},
     "output_type": "execute_result"
    }
   ],
   "source": [
    "person2.age"
   ]
  },
  {
   "cell_type": "markdown",
   "id": "fd04084f-576a-46d1-9528-df4f22d0809e",
   "metadata": {},
   "source": [
    "3.Define a class Book with attributes title, author, and price. Create multiple objects with different values.\n"
   ]
  },
  {
   "cell_type": "code",
   "execution_count": 17,
   "id": "5c9345d8-d8f4-4757-abe2-8999f499c7ef",
   "metadata": {},
   "outputs": [],
   "source": [
    "class book():\n",
    "    def __init__(self,title,author,price):\n",
    "        self.title=title\n",
    "        self.author=author\n",
    "        self.price=price"
   ]
  },
  {
   "cell_type": "code",
   "execution_count": 19,
   "id": "5d297c72-02b5-4446-a972-2cb43ece1037",
   "metadata": {},
   "outputs": [],
   "source": [
    "book1=book(\"Python Course\",\"Eric Matthes\",550)\n",
    "book2=book(\"Head First Java\", \"Kathy Sierra & Bert Bates\", 700)\n",
    "book3=book(\"C Programming Absolute Beginner's Guide\", \"Greg Perry & Dean Miller\", 450)"
   ]
  },
  {
   "cell_type": "code",
   "execution_count": 20,
   "id": "f8826a21-e447-4af5-b741-5d4e1895e9e4",
   "metadata": {},
   "outputs": [
    {
     "data": {
      "text/plain": [
       "'Python Course'"
      ]
     },
     "execution_count": 20,
     "metadata": {},
     "output_type": "execute_result"
    }
   ],
   "source": [
    "book1.title"
   ]
  },
  {
   "cell_type": "code",
   "execution_count": 21,
   "id": "abba8ad9-91f1-4f30-87cb-99f8aff2c960",
   "metadata": {},
   "outputs": [
    {
     "data": {
      "text/plain": [
       "'Kathy Sierra & Bert Bates'"
      ]
     },
     "execution_count": 21,
     "metadata": {},
     "output_type": "execute_result"
    }
   ],
   "source": [
    "book2.author"
   ]
  },
  {
   "cell_type": "code",
   "execution_count": 22,
   "id": "569cb6f6-5dbf-48e6-9cdf-c2a9797526c3",
   "metadata": {},
   "outputs": [
    {
     "data": {
      "text/plain": [
       "450"
      ]
     },
     "execution_count": 22,
     "metadata": {},
     "output_type": "execute_result"
    }
   ],
   "source": [
    "book3.price"
   ]
  },
  {
   "cell_type": "markdown",
   "id": "b026f9b0-f2ed-4740-9565-27db0227fd9c",
   "metadata": {},
   "source": [
    "4.Write a MobilePhone class with attributes brand, model, and price. Create an object and print its details."
   ]
  },
  {
   "cell_type": "code",
   "execution_count": 23,
   "id": "84cec0a3-8a20-4f2d-b564-f6545fd29adb",
   "metadata": {},
   "outputs": [],
   "source": [
    "class MobilePhone():\n",
    "    def __init__(self,brand,model,price):\n",
    "        self.brand=brand\n",
    "        self.model=model\n",
    "        self.price=price"
   ]
  },
  {
   "cell_type": "code",
   "execution_count": 24,
   "id": "52355f28-de90-4c87-86e1-2d2c6823f80c",
   "metadata": {},
   "outputs": [],
   "source": [
    "phone1=MobilePhone('Apple','iphone16',120000)"
   ]
  },
  {
   "cell_type": "code",
   "execution_count": 25,
   "id": "b0f5b688-8c0c-423c-91e8-4d809072cc05",
   "metadata": {},
   "outputs": [
    {
     "data": {
      "text/plain": [
       "'Apple'"
      ]
     },
     "execution_count": 25,
     "metadata": {},
     "output_type": "execute_result"
    }
   ],
   "source": [
    "phone1.brand"
   ]
  },
  {
   "cell_type": "code",
   "execution_count": 27,
   "id": "c89ec8e2-6c87-46f4-8406-4dabca048ebd",
   "metadata": {},
   "outputs": [
    {
     "data": {
      "text/plain": [
       "'iphone16'"
      ]
     },
     "execution_count": 27,
     "metadata": {},
     "output_type": "execute_result"
    }
   ],
   "source": [
    "phone1.model"
   ]
  },
  {
   "cell_type": "code",
   "execution_count": 28,
   "id": "fdcb617d-9804-402e-b701-46d16c18b11b",
   "metadata": {},
   "outputs": [
    {
     "data": {
      "text/plain": [
       "120000"
      ]
     },
     "execution_count": 28,
     "metadata": {},
     "output_type": "execute_result"
    }
   ],
   "source": [
    "phone1.price"
   ]
  },
  {
   "cell_type": "markdown",
   "id": "77aa67cc-a8d6-4514-b628-a953e7a622fc",
   "metadata": {},
   "source": [
    "5.Create a Laptop class with attributes brand, ram_size, and processor. Assign values and print them using an object.\n"
   ]
  },
  {
   "cell_type": "code",
   "execution_count": 29,
   "id": "8955cb9a-9cf7-4402-abd1-da93b056e2bc",
   "metadata": {},
   "outputs": [],
   "source": [
    "class Laptop():\n",
    "    def __init__(self,brand,ram_size,processor):\n",
    "        self.brand=brand\n",
    "        self.ram_size=ram_size\n",
    "        self.processor=processor"
   ]
  },
  {
   "cell_type": "code",
   "execution_count": 30,
   "id": "a62266dc-ebd8-4642-b1f8-0c280f94901f",
   "metadata": {},
   "outputs": [],
   "source": [
    "lp1=Laptop(\"Dell\",\"8gb\",\"corei5\")"
   ]
  },
  {
   "cell_type": "code",
   "execution_count": 31,
   "id": "304cea2b-8356-4270-b905-feb44895c3b6",
   "metadata": {},
   "outputs": [
    {
     "data": {
      "text/plain": [
       "'Dell'"
      ]
     },
     "execution_count": 31,
     "metadata": {},
     "output_type": "execute_result"
    }
   ],
   "source": [
    "lp1.brand"
   ]
  },
  {
   "cell_type": "code",
   "execution_count": 32,
   "id": "2693309a-8cb5-4764-91a3-8437add3a46d",
   "metadata": {},
   "outputs": [
    {
     "data": {
      "text/plain": [
       "'corei5'"
      ]
     },
     "execution_count": 32,
     "metadata": {},
     "output_type": "execute_result"
    }
   ],
   "source": [
    "lp1.processor"
   ]
  },
  {
   "cell_type": "markdown",
   "id": "046e1544-3121-403b-be3c-0d5d70ea0152",
   "metadata": {},
   "source": [
    "6.Define a Movie class with attributes title, genre, and rating. Create objects and display their attributes.\n"
   ]
  },
  {
   "cell_type": "code",
   "execution_count": 33,
   "id": "52874cc5-353b-47fd-8b8b-75c9931f04a7",
   "metadata": {},
   "outputs": [],
   "source": [
    "class Movie():\n",
    "    def __init__(self,title,genre,rating):\n",
    "        self.title=title\n",
    "        self.genre=genre\n",
    "        self.rating=rating"
   ]
  },
  {
   "cell_type": "code",
   "execution_count": 35,
   "id": "f26b2464-17e1-478d-ad4e-5111b6696f7e",
   "metadata": {},
   "outputs": [],
   "source": [
    "movie1=Movie(\"KGF\",\"action drama\",9)\n",
    "movie2=Movie(\"RRR\",\"action drama\",9)\n",
    "movie3=Movie(\"MAD\",\"COMEDY\",8)"
   ]
  },
  {
   "cell_type": "code",
   "execution_count": 36,
   "id": "5d771028-1f74-4f56-8fdf-27c57d73d935",
   "metadata": {},
   "outputs": [
    {
     "data": {
      "text/plain": [
       "'KGF'"
      ]
     },
     "execution_count": 36,
     "metadata": {},
     "output_type": "execute_result"
    }
   ],
   "source": [
    "movie1.title"
   ]
  },
  {
   "cell_type": "code",
   "execution_count": 37,
   "id": "c2cde31d-28b1-4405-acbd-29827cf6d766",
   "metadata": {},
   "outputs": [
    {
     "data": {
      "text/plain": [
       "'action drama'"
      ]
     },
     "execution_count": 37,
     "metadata": {},
     "output_type": "execute_result"
    }
   ],
   "source": [
    "movie2.genre"
   ]
  },
  {
   "cell_type": "code",
   "execution_count": 38,
   "id": "9e2e4140-f472-4476-a169-c49cc1743f9d",
   "metadata": {},
   "outputs": [
    {
     "data": {
      "text/plain": [
       "8"
      ]
     },
     "execution_count": 38,
     "metadata": {},
     "output_type": "execute_result"
    }
   ],
   "source": [
    "movie3.rating"
   ]
  },
  {
   "cell_type": "markdown",
   "id": "8a8727da-241f-4516-a3c8-fd1537c6ce00",
   "metadata": {},
   "source": [
    "CHALLENGES\n",
    "\n",
    "1.Modify the Book class to add a method discount_price(discount_percent) that reduces the price based on a given percentage."
   ]
  },
  {
   "cell_type": "code",
   "execution_count": 39,
   "id": "fdb6cecd-a978-46b6-8d82-85153bf0b939",
   "metadata": {},
   "outputs": [],
   "source": [
    "class Book():\n",
    "    def __init__(self, title, author, price):\n",
    "        self.title = title\n",
    "        self.author = author\n",
    "        self.price = price\n",
    "\n",
    "    def discount_price(self, discount_percent):\n",
    "        discount_amount = (discount_percent / 100) * self.price\n",
    "        self.price = self.price - discount_amount\n",
    "        return self.price"
   ]
  },
  {
   "cell_type": "code",
   "execution_count": 40,
   "id": "c81e88ae-56e5-4047-8d67-c131f572bc8e",
   "metadata": {},
   "outputs": [],
   "source": [
    "book1 = Book(\"Python Course\", \"Eric Matthes\", 550)"
   ]
  },
  {
   "cell_type": "code",
   "execution_count": 41,
   "id": "00c80068-c2df-4d8d-8ab5-5aada04bd703",
   "metadata": {},
   "outputs": [
    {
     "data": {
      "text/plain": [
       "'Python Course'"
      ]
     },
     "execution_count": 41,
     "metadata": {},
     "output_type": "execute_result"
    }
   ],
   "source": [
    "book1.title"
   ]
  },
  {
   "cell_type": "code",
   "execution_count": 42,
   "id": "589e03a2-f759-454c-9c26-6e5936d77b3b",
   "metadata": {},
   "outputs": [
    {
     "name": "stdout",
     "output_type": "stream",
     "text": [
      "Original Price: ₹ 550\n",
      "Discounted Price: ₹ 495.0\n"
     ]
    }
   ],
   "source": [
    "print(\"Original Price: ₹\", book1.price)\n",
    "book1.discount_price(10) \n",
    "print(\"Discounted Price: ₹\", book1.price)"
   ]
  },
  {
   "cell_type": "markdown",
   "id": "4ae03d4b-e419-44f4-87d7-5ec4c455ea9f",
   "metadata": {},
   "source": [
    "Create a class Person with attributes name and age. Write a method to display these attributes.\n",
    "\n"
   ]
  },
  {
   "cell_type": "code",
   "execution_count": 6,
   "id": "b9d573fa-661c-4985-9c07-f65ae509dd84",
   "metadata": {},
   "outputs": [],
   "source": [
    "class Person:\n",
    "    def __init__(self,name,age):\n",
    "        self.name=name\n",
    "        self.age=age\n",
    "    def display(self):\n",
    "        print(f\"my name is {self.name}\")"
   ]
  },
  {
   "cell_type": "code",
   "execution_count": 7,
   "id": "8cf6b997-cefa-4680-972d-8ebaabd075d0",
   "metadata": {},
   "outputs": [],
   "source": [
    "p1=Person(\"Sekhar\",22)"
   ]
  },
  {
   "cell_type": "code",
   "execution_count": 8,
   "id": "bb49f6ce-58b0-4a38-9be1-157130d58b63",
   "metadata": {},
   "outputs": [
    {
     "data": {
      "text/plain": [
       "'Sekhar'"
      ]
     },
     "execution_count": 8,
     "metadata": {},
     "output_type": "execute_result"
    }
   ],
   "source": [
    "p1.name"
   ]
  },
  {
   "cell_type": "code",
   "execution_count": 9,
   "id": "511da75f-13db-4139-853e-00363c587d73",
   "metadata": {},
   "outputs": [
    {
     "data": {
      "text/plain": [
       "22"
      ]
     },
     "execution_count": 9,
     "metadata": {},
     "output_type": "execute_result"
    }
   ],
   "source": [
    "p1.age"
   ]
  },
  {
   "cell_type": "code",
   "execution_count": 12,
   "id": "93745631-d148-439f-911f-9635a5d32997",
   "metadata": {},
   "outputs": [
    {
     "name": "stdout",
     "output_type": "stream",
     "text": [
      "my name is Sekhar\n"
     ]
    }
   ],
   "source": [
    "p1.display()"
   ]
  },
  {
   "cell_type": "markdown",
   "id": "e7757f5a-b06b-4d8c-8884-f6b7f7135be2",
   "metadata": {},
   "source": [
    "Create two instances of the Person class and display their information."
   ]
  },
  {
   "cell_type": "code",
   "execution_count": 13,
   "id": "ab215c26-9bfb-4f9a-8cb6-08b39a2c3e72",
   "metadata": {},
   "outputs": [
    {
     "name": "stdout",
     "output_type": "stream",
     "text": [
      "Name: Sekhar\n",
      "Age: 22\n",
      "Name: Chakri\n",
      "Age: 20\n"
     ]
    }
   ],
   "source": [
    "class Person:\n",
    "    def __init__(self, name, age):\n",
    "        self.name = name\n",
    "        self.age = age\n",
    "\n",
    "    def display_info(self):\n",
    "        print(f\"Name: {self.name}\")\n",
    "        print(f\"Age: {self.age}\")\n",
    "\n",
    "person1 = Person(\"Sekhar\", 22)\n",
    "person2 = Person(\"Chakri\", 20)\n",
    "\n",
    "person1.display_info()  \n",
    "person2.display_info()"
   ]
  },
  {
   "cell_type": "markdown",
   "id": "e8f53dbd-7a87-4257-ad5e-56a0e4bbb941",
   "metadata": {},
   "source": [
    "Add a constructor (init) method to initialize attributes while creating the object.\n",
    "\n"
   ]
  },
  {
   "cell_type": "code",
   "execution_count": 14,
   "id": "1ff523ad-ea97-472e-a9ab-b69846dbe064",
   "metadata": {},
   "outputs": [
    {
     "name": "stdout",
     "output_type": "stream",
     "text": [
      "Name: Sekhar\n",
      "Age: 22\n",
      "Name: Chakri\n",
      "Age: 20\n"
     ]
    }
   ],
   "source": [
    "class Person:\n",
    "    def __init__(self, name, age):\n",
    "        self.name = name  # Initialize 'name' attribute\n",
    "        self.age = age    # Initialize 'age' attribute\n",
    "\n",
    "    def display_info(self):\n",
    "        print(f\"Name: {self.name}\")\n",
    "        print(f\"Age: {self.age}\")\n",
    "\n",
    "person1 = Person(\"Sekhar\", 22)\n",
    "person2 = Person(\"Chakri\", 20)\n",
    "\n",
    "# Display their info\n",
    "person1.display_info()\n",
    "person2.display_info()"
   ]
  },
  {
   "cell_type": "markdown",
   "id": "b990a89d-27aa-439e-80f2-18442418c32b",
   "metadata": {},
   "source": [
    "Write a class Rectangle with attributes length and width. Add a method to compute area.\n",
    "\n"
   ]
  },
  {
   "cell_type": "code",
   "execution_count": 15,
   "id": "bf5d250d-3040-423a-9278-665fdb3b506e",
   "metadata": {},
   "outputs": [],
   "source": [
    "class Rectangle:\n",
    "    def __init__(self,length,width):\n",
    "        self.length=length\n",
    "        self.width=width\n",
    "    def compute_area(self):\n",
    "        area =self.length * self.width\n",
    "        print(f\"area of rectangle {area}\")"
   ]
  },
  {
   "cell_type": "code",
   "execution_count": 16,
   "id": "4e4eba16-14a3-42e6-aca5-9c8aa259027b",
   "metadata": {},
   "outputs": [],
   "source": [
    "area1=Rectangle(10,15)"
   ]
  },
  {
   "cell_type": "code",
   "execution_count": 17,
   "id": "c60d7002-253f-4241-b0b0-3fc2297dfc29",
   "metadata": {},
   "outputs": [
    {
     "name": "stdout",
     "output_type": "stream",
     "text": [
      "area of rectangle 150\n"
     ]
    }
   ],
   "source": [
    "area1.compute_area()"
   ]
  },
  {
   "cell_type": "markdown",
   "id": "dc3ab36a-a0e4-40d3-8c3b-e707f8069c79",
   "metadata": {},
   "source": [
    "Create a class Car with methods to start the car, stop the car, and display car status."
   ]
  },
  {
   "cell_type": "code",
   "execution_count": 19,
   "id": "d07a78ba-61e4-4241-b927-44294f0840fb",
   "metadata": {},
   "outputs": [],
   "source": [
    "class Car:\n",
    "    def __init__(self,name):\n",
    "        self.name=name\n",
    "    def start(self):\n",
    "        print(f\"{self.name} is started\")\n",
    "    def stop(self):\n",
    "        print(f\"{self.name} is stopped\")\n",
    "    def display(self):\n",
    "        print(f\"{self.name} is displayed\")"
   ]
  },
  {
   "cell_type": "code",
   "execution_count": 20,
   "id": "7df79246-4f8a-47ff-9826-17640f7a4f86",
   "metadata": {},
   "outputs": [],
   "source": [
    "car1=Car(\"audi\")"
   ]
  },
  {
   "cell_type": "code",
   "execution_count": 21,
   "id": "c99071ac-8973-4b15-a1a5-e898b8fc1253",
   "metadata": {},
   "outputs": [
    {
     "name": "stdout",
     "output_type": "stream",
     "text": [
      "audi is started\n",
      "audi is stopped\n",
      "audi is displayed\n"
     ]
    }
   ],
   "source": [
    "car1.start()\n",
    "car1.stop()\n",
    "car1.display()"
   ]
  },
  {
   "cell_type": "markdown",
   "id": "7e4cca61-429b-403c-81f5-3ce93408fab3",
   "metadata": {},
   "source": [
    "Modify the Person class to make age a private variable. Add getter and setter methods.\n",
    "\n"
   ]
  },
  {
   "cell_type": "code",
   "execution_count": 22,
   "id": "a0ec24d7-d05f-4dcd-825a-c8a645814116",
   "metadata": {},
   "outputs": [],
   "source": [
    "class Person:\n",
    "    def __init__(self, name, age):\n",
    "        self.name = name\n",
    "        self.__age = age  # Private variable (double underscore)\n",
    "\n",
    "    def display_info(self):\n",
    "        print(f\"Name: {self.name}\")\n",
    "        print(f\"Age: {self.__age}\")\n",
    "\n",
    "    # Getter method for age\n",
    "    def get_age(self):\n",
    "        return self.__age\n",
    "\n",
    "    # Setter method for age\n",
    "    def set_age(self, new_age):\n",
    "        if new_age > 0:\n",
    "            self.__age = new_age\n",
    "        else:\n",
    "            print(\"Invalid age. Age must be positive.\")"
   ]
  },
  {
   "cell_type": "code",
   "execution_count": 23,
   "id": "abdd9261-3a12-4882-a3ed-99a507ffff05",
   "metadata": {},
   "outputs": [],
   "source": [
    "person1 = Person(\"Sekhar\", 22)"
   ]
  },
  {
   "cell_type": "code",
   "execution_count": 24,
   "id": "7a1abcf1-068c-4105-99b7-b9e8c245338e",
   "metadata": {},
   "outputs": [
    {
     "name": "stdout",
     "output_type": "stream",
     "text": [
      "Name: Sekhar\n",
      "Age: 22\n"
     ]
    }
   ],
   "source": [
    "person1.display_info()"
   ]
  }
 ],
 "metadata": {
  "kernelspec": {
   "display_name": "Python 3 (ipykernel)",
   "language": "python",
   "name": "python3"
  },
  "language_info": {
   "codemirror_mode": {
    "name": "ipython",
    "version": 3
   },
   "file_extension": ".py",
   "mimetype": "text/x-python",
   "name": "python",
   "nbconvert_exporter": "python",
   "pygments_lexer": "ipython3",
   "version": "3.13.5"
  }
 },
 "nbformat": 4,
 "nbformat_minor": 5
}
