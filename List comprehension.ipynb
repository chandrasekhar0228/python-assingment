{
 "cells": [
  {
   "cell_type": "markdown",
   "id": "428180d5-5385-4b87-a619-e58233043f21",
   "metadata": {},
   "source": [
    "Create a list of squares of numbers from 1 to 10 using list comprehension."
   ]
  },
  {
   "cell_type": "code",
   "execution_count": 1,
   "id": "355ac9f3-ebbf-44f0-87de-b70a2ef289bd",
   "metadata": {},
   "outputs": [
    {
     "data": {
      "text/plain": [
       "[1, 4, 9, 16, 25, 36, 49, 64, 81]"
      ]
     },
     "execution_count": 1,
     "metadata": {},
     "output_type": "execute_result"
    }
   ],
   "source": [
    "l=[1,2,3,4,5]\n",
    "[i**2 for i in range(1,10)] "
   ]
  },
  {
   "cell_type": "markdown",
   "id": "7adf889e-b164-43bd-9283-e864c49edc63",
   "metadata": {},
   "source": [
    "Generate a list of even numbers from 1 to 20 using list comprehension."
   ]
  },
  {
   "cell_type": "code",
   "execution_count": 2,
   "id": "ffb896c6-8172-4c17-a914-7fb8faaed355",
   "metadata": {},
   "outputs": [
    {
     "data": {
      "text/plain": [
       "[2, 4, 6, 8, 10, 12, 14, 16, 18]"
      ]
     },
     "execution_count": 2,
     "metadata": {},
     "output_type": "execute_result"
    }
   ],
   "source": [
    "l=[]\n",
    "[i for i in range(1,20) if i%2==0]"
   ]
  },
  {
   "cell_type": "markdown",
   "id": "badbd3a9-24ee-46b0-a1eb-bffc4799512d",
   "metadata": {},
   "source": [
    "Create a list of the first letters of each word in the list: [\"apple\", \"banana\", \"cherry\", \"date\"]."
   ]
  },
  {
   "cell_type": "code",
   "execution_count": 3,
   "id": "a224505f-6987-425a-8b0f-6adddbcbb46a",
   "metadata": {},
   "outputs": [
    {
     "name": "stdout",
     "output_type": "stream",
     "text": [
      "['a', 'b', 'c', 'd']\n"
     ]
    }
   ],
   "source": [
    "l =[\"apple\", \"banana\", \"cherry\", \"date\"]\n",
    "letter=[word[0] for word in l]\n",
    "print(letter)"
   ]
  },
  {
   "cell_type": "markdown",
   "id": "a36d2cbb-369a-4cf0-ab3a-f0a57c17480a",
   "metadata": {},
   "source": [
    "Convert a list of temperatures in Celsius [0, 10, 20, 30, 40] to Fahrenheit using list comprehension. (Formula: F = (C * 9/5) + 32)"
   ]
  },
  {
   "cell_type": "code",
   "execution_count": 4,
   "id": "0acff596-926a-4add-8532-135228227d59",
   "metadata": {},
   "outputs": [
    {
     "name": "stdout",
     "output_type": "stream",
     "text": [
      "[32.0, 50.0, 68.0, 86.0, 104.0]\n"
     ]
    }
   ],
   "source": [
    "celsius = [0, 10, 20, 30, 40]\n",
    "fahrenheit = [(c * 9/5) + 32 for c in celsius]\n",
    "print(fahrenheit)"
   ]
  },
  {
   "cell_type": "markdown",
   "id": "72c2be22-24e2-4a6f-bf2f-595ac12069f6",
   "metadata": {},
   "source": [
    "Create a list of the first 10 natural numbers using list comprehension"
   ]
  },
  {
   "cell_type": "code",
   "execution_count": 5,
   "id": "4dd8bc96-6c50-45af-969b-cd48e1665673",
   "metadata": {},
   "outputs": [
    {
     "data": {
      "text/plain": [
       "[1, 2, 3, 4, 5, 6, 7, 8, 9, 10]"
      ]
     },
     "execution_count": 5,
     "metadata": {},
     "output_type": "execute_result"
    }
   ],
   "source": [
    "l=[]\n",
    "[i for i in range(1,11)]"
   ]
  },
  {
   "cell_type": "markdown",
   "id": "b474d688-eb6a-4781-bb42-ce53102946a3",
   "metadata": {},
   "source": [
    "Generate a list of cubes of numbers from 1 to 10."
   ]
  },
  {
   "cell_type": "code",
   "execution_count": 6,
   "id": "3d398f7d-b32c-494a-8954-6c231e57f95f",
   "metadata": {},
   "outputs": [
    {
     "name": "stdout",
     "output_type": "stream",
     "text": [
      "[1, 8, 27, 64, 125, 216, 343, 512, 729, 1000]\n"
     ]
    }
   ],
   "source": [
    "l=[i**3 for i in range(1,11)] \n",
    "print(l)"
   ]
  },
  {
   "cell_type": "markdown",
   "id": "8047e355-0356-4742-b0c0-9b50027ba0b4",
   "metadata": {},
   "source": [
    "Given a string \"Python is fun\", create a list of words in the string."
   ]
  },
  {
   "cell_type": "code",
   "execution_count": 7,
   "id": "b4c14a86-d4ad-4328-8091-5c656eb0a4c4",
   "metadata": {},
   "outputs": [
    {
     "data": {
      "text/plain": [
       "['python', 'is', 'fun']"
      ]
     },
     "execution_count": 7,
     "metadata": {},
     "output_type": "execute_result"
    }
   ],
   "source": [
    "s=\"python is fun\"\n",
    "[word for word in s.split()]"
   ]
  },
  {
   "cell_type": "markdown",
   "id": "1d145978-d1a1-4788-84ac-6dc283df46fc",
   "metadata": {},
   "source": [
    "Convert a list of strings [\"Hello\", \"World\", \"Python\"] to uppercase using list comprehension"
   ]
  },
  {
   "cell_type": "code",
   "execution_count": 8,
   "id": "70475cc0-af5d-4515-8672-75efa80655fe",
   "metadata": {},
   "outputs": [
    {
     "data": {
      "text/plain": [
       "['HELLO', 'WORLD', 'PYTHON']"
      ]
     },
     "execution_count": 8,
     "metadata": {},
     "output_type": "execute_result"
    }
   ],
   "source": [
    "s= [\"Hello\", \"World\", \"Python\"]\n",
    "[word.upper() for word in s]"
   ]
  },
  {
   "cell_type": "markdown",
   "id": "3f8be7fd-0eef-41b9-821b-0fdf212eb6e6",
   "metadata": {},
   "source": [
    "Create a list of numbers from 1 to 50 that are divisible by both 3 and 5."
   ]
  },
  {
   "cell_type": "code",
   "execution_count": 9,
   "id": "780de621-aa96-4bba-9ed6-23b0f859f311",
   "metadata": {},
   "outputs": [
    {
     "data": {
      "text/plain": [
       "[15, 30, 45]"
      ]
     },
     "execution_count": 9,
     "metadata": {},
     "output_type": "execute_result"
    }
   ],
   "source": [
    "[i for i in range(1,50) if i%3==0 and i%5==0]"
   ]
  },
  {
   "cell_type": "markdown",
   "id": "f5a2ff51-f7ce-450d-b670-ab447010a318",
   "metadata": {},
   "source": [
    "Given a list of numbers [1, 2, 3, 4, 5, 6, 7, 8, 9, 10], create a new list containing only the odd numbers."
   ]
  },
  {
   "cell_type": "code",
   "execution_count": 10,
   "id": "0e35a175-d6ad-4885-96e9-6a27ca106d66",
   "metadata": {},
   "outputs": [
    {
     "name": "stdout",
     "output_type": "stream",
     "text": [
      "[1, 3, 5, 7, 9]\n"
     ]
    }
   ],
   "source": [
    "l = [1, 2, 3, 4, 5, 6, 7, 8, 9, 10]\n",
    "l1 = [i for i in l if i % 2 != 0]\n",
    "print(l1)"
   ]
  },
  {
   "cell_type": "markdown",
   "id": "4138a39a-914b-4fa7-b510-e9f142a575bf",
   "metadata": {},
   "source": [
    "Given a string \"hello world\", create a list of vowels present in the string."
   ]
  },
  {
   "cell_type": "code",
   "execution_count": 11,
   "id": "3312cec2-a5b8-47da-8da4-d7a57702e4cc",
   "metadata": {},
   "outputs": [
    {
     "name": "stdout",
     "output_type": "stream",
     "text": [
      "['e', 'o', 'o']\n"
     ]
    }
   ],
   "source": [
    "s=\"hello world\"\n",
    "vowels=\"aeiou\"\n",
    "list=[char for char in s if char in vowels]\n",
    "print(list)"
   ]
  },
  {
   "cell_type": "markdown",
   "id": "81a6f7bf-06ee-441d-90ce-410725805272",
   "metadata": {},
   "source": [
    "Convert a list of words [\"Hello\", \"WORLD\", \"Python\", \"LiSt\"] to lowercase using list comprehension."
   ]
  },
  {
   "cell_type": "code",
   "execution_count": 12,
   "id": "a938f674-c3fa-4fcd-be29-6ead7ec86838",
   "metadata": {},
   "outputs": [
    {
     "data": {
      "text/plain": [
       "['hello', 'world', 'python', 'list']"
      ]
     },
     "execution_count": 12,
     "metadata": {},
     "output_type": "execute_result"
    }
   ],
   "source": [
    "s=[\"Hello\", \"WORLD\", \"Python\", \"LiSt\"]\n",
    "[word.lower() for word in s]"
   ]
  },
  {
   "cell_type": "markdown",
   "id": "567e9d3c-246e-4c39-a998-9af4f7a1bcbe",
   "metadata": {},
   "source": [
    "Create a list of even numbers from 1 to 50.\n",
    "\n"
   ]
  },
  {
   "cell_type": "code",
   "execution_count": 13,
   "id": "74ddda58-2fa6-45f6-bc6e-edf14af93d75",
   "metadata": {},
   "outputs": [
    {
     "name": "stdout",
     "output_type": "stream",
     "text": [
      "[2, 4, 6, 8, 10, 12, 14, 16, 18, 20, 22, 24, 26, 28, 30, 32, 34, 36, 38, 40, 42, 44, 46, 48, 50]\n"
     ]
    }
   ],
   "source": [
    "list=[i for i in range(1,51) if i%2==0]\n",
    "print(list)"
   ]
  },
  {
   "cell_type": "markdown",
   "id": "c7aac1ef-5796-4c7d-912a-058f72da3d97",
   "metadata": {},
   "source": [
    "Generate a list of numbers from 1 to 20 that are not divisible by 3."
   ]
  },
  {
   "cell_type": "code",
   "execution_count": 14,
   "id": "5208d5d9-2b5f-4de5-9f8c-b8929b8b1de4",
   "metadata": {},
   "outputs": [
    {
     "name": "stdout",
     "output_type": "stream",
     "text": [
      "[1, 2, 4, 5, 7, 8, 10, 11, 13, 14, 16, 17, 19, 20]\n"
     ]
    }
   ],
   "source": [
    "list=[i for i in range(1,21) if i%3!=0]\n",
    "print(list)"
   ]
  },
  {
   "cell_type": "markdown",
   "id": "ee289ef9-0906-48c3-a424-564b0ff01643",
   "metadata": {},
   "source": [
    "Create a list of squares of only the even numbers from 1 to 10."
   ]
  },
  {
   "cell_type": "code",
   "execution_count": 15,
   "id": "45b193d1-fd99-4157-b17e-c6fd44a17cd1",
   "metadata": {},
   "outputs": [
    {
     "name": "stdout",
     "output_type": "stream",
     "text": [
      "[1, 4, 9, 16, 25, 36, 49, 64, 81, 100]\n"
     ]
    }
   ],
   "source": [
    "square=[i**2 for i in range(1,11)]\n",
    "print(square)"
   ]
  },
  {
   "cell_type": "markdown",
   "id": "4a7e082c-97c4-4198-a27c-e1305e91f83e",
   "metadata": {},
   "source": [
    "Given a list of words [\"dog\", \"elephant\", \"cat\", \"rabbit\"], create a new list containing only words with more than 3 letters.\n",
    "\n"
   ]
  },
  {
   "cell_type": "code",
   "execution_count": 16,
   "id": "ebbd631e-63f4-4bba-869b-7d9d52a3b1d6",
   "metadata": {},
   "outputs": [
    {
     "name": "stdout",
     "output_type": "stream",
     "text": [
      "['elephant', 'rabbit']\n"
     ]
    }
   ],
   "source": [
    "words=[\"dog\", \"elephant\", \"cat\", \"rabbit\"]\n",
    "new=[word for word in words if len(word)>3]\n",
    "print(new)"
   ]
  },
  {
   "cell_type": "code",
   "execution_count": null,
   "id": "d05f55e3-c9ff-4487-b077-38c90c493a06",
   "metadata": {},
   "outputs": [],
   "source": []
  }
 ],
 "metadata": {
  "kernelspec": {
   "display_name": "Python 3 (ipykernel)",
   "language": "python",
   "name": "python3"
  },
  "language_info": {
   "codemirror_mode": {
    "name": "ipython",
    "version": 3
   },
   "file_extension": ".py",
   "mimetype": "text/x-python",
   "name": "python",
   "nbconvert_exporter": "python",
   "pygments_lexer": "ipython3",
   "version": "3.13.5"
  }
 },
 "nbformat": 4,
 "nbformat_minor": 5
}
