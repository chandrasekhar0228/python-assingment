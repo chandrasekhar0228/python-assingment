{
 "cells": [
  {
   "cell_type": "code",
   "execution_count": 1,
   "id": "4f0cb294-4a85-4bba-839d-8dbccbffa7b1",
   "metadata": {},
   "outputs": [],
   "source": [
    "#1. Write a function that takes two numbers and returns their sum.\n",
    "def add(a,b):\n",
    "    return a+b"
   ]
  },
  {
   "cell_type": "code",
   "execution_count": 2,
   "id": "f8048e2f-3388-46c9-b92d-3aa951e8146c",
   "metadata": {},
   "outputs": [
    {
     "data": {
      "text/plain": [
       "7"
      ]
     },
     "execution_count": 2,
     "metadata": {},
     "output_type": "execute_result"
    }
   ],
   "source": [
    "add(3,4)"
   ]
  },
  {
   "cell_type": "code",
   "execution_count": 3,
   "id": "36ae7b16-8c79-48f4-afeb-a637a8a48585",
   "metadata": {},
   "outputs": [],
   "source": [
    "#2. Write a function that takes a string and returns it reversed.\n",
    "str=(\"sekhar\",\"datascience\")"
   ]
  },
  {
   "cell_type": "code",
   "execution_count": 4,
   "id": "8dd17e75-0c77-495f-a426-b48c0006613a",
   "metadata": {},
   "outputs": [],
   "source": [
    "def rev(str):\n",
    "    return str[::-1]"
   ]
  },
  {
   "cell_type": "code",
   "execution_count": 5,
   "id": "6b6b454a-34dc-45c8-a734-3639a02801f0",
   "metadata": {},
   "outputs": [
    {
     "data": {
      "text/plain": [
       "('datascience', 'sekhar')"
      ]
     },
     "execution_count": 5,
     "metadata": {},
     "output_type": "execute_result"
    }
   ],
   "source": [
    "rev(str)"
   ]
  },
  {
   "cell_type": "code",
   "execution_count": 6,
   "id": "28203382-d87e-4664-8a57-f0159d47d225",
   "metadata": {},
   "outputs": [],
   "source": [
    "def rev():\n",
    "    text=\"sekhar\"\n",
    "    return text[::-1]"
   ]
  },
  {
   "cell_type": "code",
   "execution_count": 7,
   "id": "3a29e2ec-3c40-41dc-b039-1d4afc765d66",
   "metadata": {},
   "outputs": [
    {
     "data": {
      "text/plain": [
       "'rahkes'"
      ]
     },
     "execution_count": 7,
     "metadata": {},
     "output_type": "execute_result"
    }
   ],
   "source": [
    "rev()"
   ]
  },
  {
   "cell_type": "code",
   "execution_count": 10,
   "id": "19c3218b-7010-4acf-bbf5-64a3f3b837f5",
   "metadata": {},
   "outputs": [],
   "source": [
    "#3. Write a function that checks if a number is even or odd.\n",
    "def even(a):\n",
    "    if a%2==0:\n",
    "         return\"this is even num\"\n",
    "    else:\n",
    "        return \"this is odd num\"\n",
    "        "
   ]
  },
  {
   "cell_type": "code",
   "execution_count": 11,
   "id": "2755565f-54f0-4bfc-a5d8-f5557f64577a",
   "metadata": {},
   "outputs": [
    {
     "data": {
      "text/plain": [
       "'this is even num'"
      ]
     },
     "execution_count": 11,
     "metadata": {},
     "output_type": "execute_result"
    }
   ],
   "source": [
    "even(10)"
   ]
  },
  {
   "cell_type": "code",
   "execution_count": 12,
   "id": "46ea6760-4620-4445-86e6-693b0811ec44",
   "metadata": {},
   "outputs": [
    {
     "data": {
      "text/plain": [
       "'this is odd num'"
      ]
     },
     "execution_count": 12,
     "metadata": {},
     "output_type": "execute_result"
    }
   ],
   "source": [
    "even(7)"
   ]
  },
  {
   "cell_type": "code",
   "execution_count": 13,
   "id": "4151a035-28ce-40d3-af88-01be52eb4f8d",
   "metadata": {},
   "outputs": [],
   "source": [
    "#4. Write a function that returns the factorial of a number.\n",
    "def fact(n):\n",
    "    f=1\n",
    "    for i in range(1,n+1):\n",
    "        f = f * i\n",
    "    return f"
   ]
  },
  {
   "cell_type": "code",
   "execution_count": 14,
   "id": "eb84f9eb-a981-4761-9131-c1221c81bfc6",
   "metadata": {},
   "outputs": [
    {
     "data": {
      "text/plain": [
       "24"
      ]
     },
     "execution_count": 14,
     "metadata": {},
     "output_type": "execute_result"
    }
   ],
   "source": [
    "fact(4)"
   ]
  },
  {
   "cell_type": "code",
   "execution_count": 15,
   "id": "95a46d33-47e4-4de9-95d7-749922d4ef1a",
   "metadata": {},
   "outputs": [],
   "source": [
    "#5. Write a function that takes a list and returns the maximum element.\n",
    "def test():\n",
    "    l=[1,2,3,4,5,6,7]\n",
    "    return max(l)"
   ]
  },
  {
   "cell_type": "code",
   "execution_count": 16,
   "id": "c1168387-abb0-48fd-94f0-613940232fad",
   "metadata": {},
   "outputs": [
    {
     "data": {
      "text/plain": [
       "7"
      ]
     },
     "execution_count": 16,
     "metadata": {},
     "output_type": "execute_result"
    }
   ],
   "source": [
    "test()"
   ]
  },
  {
   "cell_type": "code",
   "execution_count": 17,
   "id": "7aa51798-7b35-452e-a9a4-b8837d427e99",
   "metadata": {},
   "outputs": [
    {
     "name": "stdout",
     "output_type": "stream",
     "text": [
      "1\n",
      "2\n",
      "3\n",
      "4\n",
      "5\n",
      "6\n",
      "7\n",
      "8\n",
      "9\n",
      "10\n"
     ]
    }
   ],
   "source": [
    "#6. Print numbers from 1 to 10 using a for loop.\n",
    "\n",
    "for i in range(1,11):\n",
    "    print(i)"
   ]
  },
  {
   "cell_type": "code",
   "execution_count": 19,
   "id": "7f79c4b0-dadf-4ffe-8857-7a3fa494c849",
   "metadata": {},
   "outputs": [
    {
     "name": "stdout",
     "output_type": "stream",
     "text": [
      "s\n",
      "e\n",
      "k\n",
      "h\n",
      "a\n",
      "r\n"
     ]
    }
   ],
   "source": [
    "#7. Print each character in a string using a for loop.\n",
    "str = \"sekhar\"\n",
    "for i in str:\n",
    "    print(i)"
   ]
  },
  {
   "cell_type": "code",
   "execution_count": 21,
   "id": "a6e39aa0-2c42-4ff0-8954-152ead195c18",
   "metadata": {},
   "outputs": [
    {
     "name": "stdout",
     "output_type": "stream",
     "text": [
      "21\n"
     ]
    }
   ],
   "source": [
    "#8. Write a program that sums all numbers in a list using a for loop.\n",
    "l=[1,2,3,4,5,6]\n",
    "n=0\n",
    "for i in l:\n",
    "    n=n+i\n",
    "print(n)"
   ]
  },
  {
   "cell_type": "code",
   "execution_count": 22,
   "id": "02c7ae95-ea71-46ca-a398-b39c554ad723",
   "metadata": {},
   "outputs": [
    {
     "name": "stdout",
     "output_type": "stream",
     "text": [
      "5 x 1 = 5\n",
      "5 x 2 = 10\n",
      "5 x 3 = 15\n",
      "5 x 4 = 20\n",
      "5 x 5 = 25\n",
      "5 x 6 = 30\n",
      "5 x 7 = 35\n",
      "5 x 8 = 40\n",
      "5 x 9 = 45\n",
      "5 x 10 = 50\n"
     ]
    }
   ],
   "source": [
    "#9. Print the multiplication table of a given number using a for loop.\n",
    "n=5\n",
    "for i in range(1,11):\n",
    "    print(n,'x',i,'=',n*i)\n",
    "    "
   ]
  },
  {
   "cell_type": "code",
   "execution_count": 23,
   "id": "42b5657f-33d3-46f2-82d0-b35df181757d",
   "metadata": {},
   "outputs": [
    {
     "name": "stdout",
     "output_type": "stream",
     "text": [
      "2\n",
      "4\n",
      "6\n",
      "8\n",
      "10\n",
      "12\n",
      "14\n",
      "16\n",
      "18\n",
      "20\n",
      "22\n",
      "24\n",
      "26\n",
      "28\n",
      "30\n",
      "32\n",
      "34\n",
      "36\n",
      "38\n",
      "40\n",
      "42\n",
      "44\n",
      "46\n",
      "48\n",
      "50\n"
     ]
    }
   ],
   "source": [
    "#10. Write a program that prints all even numbers from 1 to 50.\n",
    "for i in range(1,51):\n",
    "    if i%2==0:\n",
    "        print(i)"
   ]
  },
  {
   "cell_type": "code",
   "execution_count": 24,
   "id": "961fa12e-b0f3-43d3-90c6-9b715b2e7509",
   "metadata": {},
   "outputs": [
    {
     "name": "stdout",
     "output_type": "stream",
     "text": [
      "1\n",
      "2\n",
      "3\n",
      "4\n",
      "5\n",
      "6\n",
      "7\n",
      "8\n",
      "9\n",
      "10\n"
     ]
    }
   ],
   "source": [
    "#11. Print numbers from 1 to 10 using a while loop.\n",
    "i=1\n",
    "while i<=10:\n",
    "    print(i)\n",
    "    i=i+1"
   ]
  },
  {
   "cell_type": "code",
   "execution_count": 25,
   "id": "3ce1690e-4131-46ce-b9a5-097ff6601f9d",
   "metadata": {},
   "outputs": [
    {
     "name": "stdin",
     "output_type": "stream",
     "text": [
      "Enter something (type 'exit' to stop):  exit\n"
     ]
    },
    {
     "name": "stdout",
     "output_type": "stream",
     "text": [
      "exit\n"
     ]
    }
   ],
   "source": [
    "#12. Keep taking input from the user until they type \"exit\".\n",
    "while True:\n",
    "    user_input = input(\"Enter something (type 'exit' to stop): \")\n",
    "    if user_input == \"exit\":\n",
    "        print(\"exit\")\n",
    "        break"
   ]
  },
  {
   "cell_type": "code",
   "execution_count": 26,
   "id": "cd82c8ed-d608-408e-b1ea-c3abcbb54771",
   "metadata": {},
   "outputs": [
    {
     "name": "stdout",
     "output_type": "stream",
     "text": [
      "sum of digit: 21\n"
     ]
    }
   ],
   "source": [
    "#13. Write a program that finds the sum of digits of a number using a while loop.\n",
    "\n",
    "n=777\n",
    "sum=0\n",
    "while n>0:\n",
    "    digit=n%10\n",
    "    sum=sum+digit\n",
    "    n=n//10\n",
    "print(\"sum of digit:\",sum)"
   ]
  },
  {
   "cell_type": "code",
   "execution_count": 27,
   "id": "76f1852e-8943-4a05-9a15-39cb01001c8c",
   "metadata": {},
   "outputs": [
    {
     "name": "stdin",
     "output_type": "stream",
     "text": [
      "Guess the number:  5\n"
     ]
    },
    {
     "name": "stdout",
     "output_type": "stream",
     "text": [
      "You guessed it right!\n"
     ]
    }
   ],
   "source": [
    "#14. Guess the number game: Keep asking the user until they guess the correct number.\n",
    "number = 5  \n",
    "guess = 0   # \n",
    "\n",
    "while guess != number:\n",
    "    guess = int(input(\"Guess the number: \"))\n",
    "\n",
    "print(\"You guessed it right!\")"
   ]
  },
  {
   "cell_type": "code",
   "execution_count": 28,
   "id": "98f854c6-8afa-4882-93d9-7d4a4ba76310",
   "metadata": {},
   "outputs": [
    {
     "name": "stdout",
     "output_type": "stream",
     "text": [
      "1 2 3 5 8 \n"
     ]
    }
   ],
   "source": [
    "#15. Print the Fibonacci sequence up to n terms using a while loop.\n",
    "n = 5\n",
    "a = 0\n",
    "b = 1\n",
    "next = b  \n",
    "count = 1\n",
    "\n",
    "while count <= n:\n",
    "    print(next, end=\" \")\n",
    "    count += 1\n",
    "    a, b = b, next\n",
    "    next = a + b\n",
    "print()"
   ]
  },
  {
   "cell_type": "code",
   "execution_count": 1,
   "id": "61179d07-730c-4474-9534-9e85b4e8e9e0",
   "metadata": {},
   "outputs": [],
   "source": [
    "#16. Write a function that takes variable number of arguments using *m and returns their sum.\n",
    "def test(*m):\n",
    "    return sum(m)"
   ]
  },
  {
   "cell_type": "code",
   "execution_count": 2,
   "id": "2c64404b-a93f-4e37-b295-7f49536ba329",
   "metadata": {},
   "outputs": [
    {
     "data": {
      "text/plain": [
       "17"
      ]
     },
     "execution_count": 2,
     "metadata": {},
     "output_type": "execute_result"
    }
   ],
   "source": [
    "test(1,2,3,5,6)"
   ]
  },
  {
   "cell_type": "code",
   "execution_count": 3,
   "id": "dd80a021-ec75-4e5a-a4c2-fb8a0e7c387f",
   "metadata": {},
   "outputs": [
    {
     "name": "stdout",
     "output_type": "stream",
     "text": [
      "a: 1\n",
      "b: [2, 3, 4, 5]\n"
     ]
    }
   ],
   "source": [
    "#17. Write a program that unpacks a list into separate variables using *.\n",
    "\n",
    "nums = [1, 2, 3, 4, 5]\n",
    "a, *b = nums \n",
    "print(\"a:\", a)\n",
    "print(\"b:\", b)"
   ]
  },
  {
   "cell_type": "code",
   "execution_count": 6,
   "id": "2227ccd0-fbcc-4f5c-9882-a5f029552cc7",
   "metadata": {},
   "outputs": [],
   "source": [
    "#18.Create a function that multiplies a number with itself n times using * (e.g., 2 * 3 = 6).\n",
    "\n",
    "def mul(a,b):\n",
    "    return a*b"
   ]
  },
  {
   "cell_type": "code",
   "execution_count": 8,
   "id": "1117b8da-7c8f-4989-bce8-a8608e4c7879",
   "metadata": {},
   "outputs": [
    {
     "data": {
      "text/plain": [
       "6"
      ]
     },
     "execution_count": 8,
     "metadata": {},
     "output_type": "execute_result"
    }
   ],
   "source": [
    "mul(2,3)"
   ]
  },
  {
   "cell_type": "code",
   "execution_count": 9,
   "id": "3580dba7-2849-4db6-b497-e232e25b9c58",
   "metadata": {},
   "outputs": [],
   "source": [
    "def mul(n, times):\n",
    "    result = 1\n",
    "    for _ in range(times):\n",
    "        result = result * n\n",
    "    return result"
   ]
  },
  {
   "cell_type": "code",
   "execution_count": 10,
   "id": "101383e4-c1f0-448f-9542-8f2be483cb65",
   "metadata": {},
   "outputs": [
    {
     "data": {
      "text/plain": [
       "8"
      ]
     },
     "execution_count": 10,
     "metadata": {},
     "output_type": "execute_result"
    }
   ],
   "source": [
    "mul(2,3)"
   ]
  },
  {
   "cell_type": "code",
   "execution_count": 11,
   "id": "766bfe10-29fa-451c-b44c-9d1c6e2e086a",
   "metadata": {},
   "outputs": [
    {
     "name": "stdout",
     "output_type": "stream",
     "text": [
      "[1, 2, 3, 4]\n"
     ]
    }
   ],
   "source": [
    "#19 Use * to combine two lists into one:\n",
    "\n",
    "a = [1, 2]\n",
    "b = [3, 4]\n",
    "combined = [*a, *b]\n",
    "print(combined)"
   ]
  },
  {
   "cell_type": "code",
   "execution_count": 12,
   "id": "656767b2-fdc6-453c-8fc2-a42f964f5b63",
   "metadata": {},
   "outputs": [
    {
     "name": "stdout",
     "output_type": "stream",
     "text": [
      "the word is palindrome\n"
     ]
    }
   ],
   "source": [
    "#20. Write a function that checks whether a string is a palindrome\n",
    "\n",
    "def palin(word):\n",
    "    if word == word[::-1]:\n",
    "        return \"the word is palindrome\"\n",
    "    else:\n",
    "        return \"not palindrome\"\n",
    "print(palin(\"madam\"))"
   ]
  },
  {
   "cell_type": "code",
   "execution_count": 13,
   "id": "c9013be5-fc4b-4395-8da8-1627e77f3a25",
   "metadata": {},
   "outputs": [
    {
     "name": "stdout",
     "output_type": "stream",
     "text": [
      "2\n"
     ]
    }
   ],
   "source": [
    "#21 Write a function that returns the number of vowels in a given string.\n",
    "def vow(text):\n",
    "    vowels = \"aeiou\"\n",
    "    count = 0\n",
    "    for char in text.lower():\n",
    "        if char in vowels:\n",
    "            count += 1\n",
    "    return count\n",
    "print(vow(\"sekhar\"))"
   ]
  },
  {
   "cell_type": "code",
   "execution_count": 14,
   "id": "41dbd771-c158-49f6-acb2-87e1258b3670",
   "metadata": {},
   "outputs": [],
   "source": [
    "#22 Write a function that takes a list of numbers and returns only the even numbers.\n",
    "l=[1,2,3,4,5,6,7,8]\n",
    "def even(lst):\n",
    "    l1=[]\n",
    "    for i in l:\n",
    "        if i%2==0:\n",
    "            l1.append(i)\n",
    "    return l1"
   ]
  },
  {
   "cell_type": "code",
   "execution_count": 15,
   "id": "189e3430-11a4-4603-b265-4eb5cfde38d3",
   "metadata": {},
   "outputs": [
    {
     "data": {
      "text/plain": [
       "[2, 4, 6, 8]"
      ]
     },
     "execution_count": 15,
     "metadata": {},
     "output_type": "execute_result"
    }
   ],
   "source": [
    "even(l)"
   ]
  },
  {
   "cell_type": "code",
   "execution_count": 17,
   "id": "440c4212-bac8-4dca-83e3-06eb30979526",
   "metadata": {},
   "outputs": [],
   "source": [
    "#23 Write a function that converts Celsius to Fahrenheit.\n",
    "\n",
    "def wor(text):\n",
    "    words=text.split()\n",
    "    return len(words)"
   ]
  },
  {
   "cell_type": "code",
   "execution_count": 18,
   "id": "b42ca6c1-e2ec-4068-b2db-e8e264283ccc",
   "metadata": {},
   "outputs": [
    {
     "data": {
      "text/plain": [
       "3"
      ]
     },
     "execution_count": 18,
     "metadata": {},
     "output_type": "execute_result"
    }
   ],
   "source": [
    "wor(\"sekhar is datascientist\")"
   ]
  },
  {
   "cell_type": "code",
   "execution_count": 19,
   "id": "ef95da7e-d0b8-4349-9269-953208e65184",
   "metadata": {},
   "outputs": [],
   "source": [
    "#24 Write a function that uses *args and prints all values line by line with their index.\n",
    "def test(*args):\n",
    "    i=0\n",
    "    for items in args:\n",
    "        print(i ,\":\" ,items)\n",
    "        i=i+1"
   ]
  },
  {
   "cell_type": "code",
   "execution_count": 20,
   "id": "3d62f62b-3f6f-4dae-b20e-f81eaba9ce4b",
   "metadata": {},
   "outputs": [
    {
     "name": "stdout",
     "output_type": "stream",
     "text": [
      "0 : 1\n",
      "1 : 2\n",
      "2 : 3\n",
      "3 : 4\n",
      "4 : 5\n",
      "5 : ['sekhar']\n"
     ]
    }
   ],
   "source": [
    "test(1,2,3,4,5,[\"sekhar\"])"
   ]
  },
  {
   "cell_type": "code",
   "execution_count": 21,
   "id": "e6d375fa-4a91-4884-a24c-b805e1a29652",
   "metadata": {},
   "outputs": [],
   "source": [
    "#25 Write a function that takes *args and returns their average.\n",
    "def test2(*avrgs):\n",
    "    return sum(avrgs)/len(avrgs)"
   ]
  },
  {
   "cell_type": "code",
   "execution_count": 22,
   "id": "aa68d939-dadb-4711-948c-0d477175315a",
   "metadata": {},
   "outputs": [
    {
     "data": {
      "text/plain": [
       "3.5"
      ]
     },
     "execution_count": 22,
     "metadata": {},
     "output_type": "execute_result"
    }
   ],
   "source": [
    "test2(1,2,3,4,5,6)"
   ]
  },
  {
   "cell_type": "code",
   "execution_count": 24,
   "id": "29729db4-1b88-40ab-bd9a-3ef48ba85831",
   "metadata": {},
   "outputs": [
    {
     "name": "stdin",
     "output_type": "stream",
     "text": [
      "Enter a positive number:  -2\n"
     ]
    },
    {
     "name": "stdout",
     "output_type": "stream",
     "text": [
      "Negative number entered. Stopping...\n"
     ]
    }
   ],
   "source": [
    "#26 Keep asking the user to enter a positive number. Stop when they enter a negative number.\n",
    "while True:\n",
    "    num = int(input(\"Enter a positive number: \"))\n",
    "    if num < 0:\n",
    "        print(\"Negative number entered. Stopping...\")\n",
    "        break\n"
   ]
  },
  {
   "cell_type": "code",
   "execution_count": 25,
   "id": "4ec6e6ac-a7bc-444e-a55c-38e1dbd93b1f",
   "metadata": {},
   "outputs": [
    {
     "name": "stdin",
     "output_type": "stream",
     "text": [
      "Enter a number:  1234456778\n"
     ]
    },
    {
     "name": "stdout",
     "output_type": "stream",
     "text": [
      "Reversed number: 8776544321\n"
     ]
    }
   ],
   "source": [
    "#27 Write a program to reverse a number using a while loop.\n",
    "num = int(input(\"Enter a number: \"))\n",
    "rev = 0\n",
    "\n",
    "while num > 0:\n",
    "    digit = num % 10\n",
    "    rev = rev * 10 + digit\n",
    "    num = num // 10\n",
    "\n",
    "print(\"Reversed number:\", rev)"
   ]
  },
  {
   "cell_type": "code",
   "execution_count": 26,
   "id": "222e473b-db13-4c3a-9aa2-3ddaf2b7665d",
   "metadata": {},
   "outputs": [
    {
     "name": "stdout",
     "output_type": "stream",
     "text": [
      "  105\n"
     ]
    }
   ],
   "source": [
    "#28 Find the first number divisible by both 3 and 5 greater than 100 using while.\n",
    "n = 101\n",
    "\n",
    "while True:\n",
    "    if n % 3 == 0 and n % 5 == 0:\n",
    "        print(\" \", n)\n",
    "        break\n",
    "    n = n + 1"
   ]
  },
  {
   "cell_type": "code",
   "execution_count": 27,
   "id": "549c69e8-5716-431f-b162-0242125b4a03",
   "metadata": {},
   "outputs": [
    {
     "name": "stdout",
     "output_type": "stream",
     "text": [
      "10\n",
      "9\n",
      "8\n",
      "7\n",
      "6\n",
      "5\n",
      "4\n",
      "3\n",
      "2\n",
      "1\n",
      "Liftoff!\n"
     ]
    }
   ],
   "source": [
    "#30 Create a countdown timer using while, e.g., from 10 to 1.\n",
    "count = 10\n",
    "while count > 0:\n",
    "    print(count)\n",
    "    count -= 1\n",
    "print(\"Liftoff!\")"
   ]
  },
  {
   "cell_type": "code",
   "execution_count": 28,
   "id": "e4fac5e4-cd3d-44ae-a546-64b1f11119ad",
   "metadata": {},
   "outputs": [
    {
     "name": "stdout",
     "output_type": "stream",
     "text": [
      "1\n",
      "2\n",
      "3\n",
      "4\n",
      "5\n"
     ]
    }
   ],
   "source": [
    "#31 Print all elements in a nested list.\n",
    "\n",
    "\n",
    "nested = [[1, 2], [3, 4], [5]]\n",
    "for sub in nested:\n",
    "    for item in sub:\n",
    "        print(item)"
   ]
  },
  {
   "cell_type": "code",
   "execution_count": 29,
   "id": "d2c1da3e-bcf7-41a8-b8ff-9a1ad00ff827",
   "metadata": {},
   "outputs": [
    {
     "name": "stdout",
     "output_type": "stream",
     "text": [
      "{'h': 1, 'e': 1, 'l': 2, 'o': 1}\n"
     ]
    }
   ],
   "source": [
    "#32 Count how many times each character appears in a string.\n",
    "\n",
    "s = \"hello\"\n",
    "counts = {}\n",
    "for char in s:\n",
    "    counts[char] = counts.get(char, 0) + 1\n",
    "print(counts)"
   ]
  },
  {
   "cell_type": "code",
   "execution_count": null,
   "id": "a37f4137-d67c-4e86-97e3-edc176fff43e",
   "metadata": {},
   "outputs": [],
   "source": []
  }
 ],
 "metadata": {
  "kernelspec": {
   "display_name": "Python 3 (ipykernel)",
   "language": "python",
   "name": "python3"
  },
  "language_info": {
   "codemirror_mode": {
    "name": "ipython",
    "version": 3
   },
   "file_extension": ".py",
   "mimetype": "text/x-python",
   "name": "python",
   "nbconvert_exporter": "python",
   "pygments_lexer": "ipython3",
   "version": "3.13.5"
  }
 },
 "nbformat": 4,
 "nbformat_minor": 5
}
