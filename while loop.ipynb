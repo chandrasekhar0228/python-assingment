{
 "cells": [
  {
   "cell_type": "code",
   "execution_count": 5,
   "id": "63b86b96-cdc3-4c1a-a021-ebeb81079f93",
   "metadata": {},
   "outputs": [
    {
     "name": "stdout",
     "output_type": "stream",
     "text": [
      "1\n",
      "2\n",
      "4\n",
      "5\n"
     ]
    }
   ],
   "source": [
    "#Given a list of numbers [1, 2, 3, 4, 5], use a for loop to print the elements one by one. However, if the element is 3, skip it using the continue statement.\n",
    "l = [1, 2, 3, 4, 5]\n",
    "for i in l:\n",
    "    if i == 3:\n",
    "        continue\n",
    "    print(i)"
   ]
  },
  {
   "cell_type": "code",
   "execution_count": 6,
   "id": "d44422ec-59af-428f-aee7-e27008d75d90",
   "metadata": {},
   "outputs": [
    {
     "name": "stdout",
     "output_type": "stream",
     "text": [
      "found 'o'\n"
     ]
    }
   ],
   "source": [
    "#Write a Python function that takes a string as input and checks if it contains the letter 'o'. If it does, print \"Found 'o'\" and use the break statement to stop searching.\n",
    "str =\"Hello World!\"\n",
    "for letter in str:\n",
    "    if letter == 'o':\n",
    "        print(\"found 'o'\")\n",
    "        break"
   ]
  },
  {
   "cell_type": "code",
   "execution_count": 7,
   "id": "204e7dfc-2403-4be9-b632-7883cae6548f",
   "metadata": {},
   "outputs": [
    {
     "name": "stdout",
     "output_type": "stream",
     "text": [
      "2\n",
      "4\n",
      "6\n",
      "10\n"
     ]
    }
   ],
   "source": [
    "#Given a list of numbers [1, 2, 3, 4, 5], use a for loop to double each element and print the result. However, if the element is 4, use the continue statement to skip it.\n",
    "l = [1,2,3,4,5]\n",
    "for i in l:\n",
    "    if i ==4:\n",
    "        continue\n",
    "    print(i*2)"
   ]
  },
  {
   "cell_type": "code",
   "execution_count": 8,
   "id": "5f4323fb-0206-4d19-87c9-a7b9249fe732",
   "metadata": {},
   "outputs": [
    {
     "name": "stdout",
     "output_type": "stream",
     "text": [
      "1\n",
      "2\n",
      "3\n",
      "4\n",
      "5\n",
      "6\n",
      "7\n",
      "8\n",
      "9\n",
      "10\n",
      "11\n",
      "12\n",
      "13\n",
      "14\n",
      "15\n"
     ]
    }
   ],
   "source": [
    "#Write a Python program to print all numbers from 1 to 20 using a while loop. However, stop the loop when reaching 15 using the break statement.\n",
    "a = 1\n",
    "while a<=20:\n",
    "    if a == 16:\n",
    "        break\n",
    "    print(a)\n",
    "    a+=1"
   ]
  },
  {
   "cell_type": "code",
   "execution_count": null,
   "id": "f6c88a77-b579-4390-951d-baf99092fc7a",
   "metadata": {},
   "outputs": [],
   "source": []
  }
 ],
 "metadata": {
  "kernelspec": {
   "display_name": "Python 3 (ipykernel)",
   "language": "python",
   "name": "python3"
  },
  "language_info": {
   "codemirror_mode": {
    "name": "ipython",
    "version": 3
   },
   "file_extension": ".py",
   "mimetype": "text/x-python",
   "name": "python",
   "nbconvert_exporter": "python",
   "pygments_lexer": "ipython3",
   "version": "3.13.5"
  }
 },
 "nbformat": 4,
 "nbformat_minor": 5
}
