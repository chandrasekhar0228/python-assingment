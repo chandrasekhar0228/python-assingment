{
 "cells": [
  {
   "cell_type": "code",
   "execution_count": 1,
   "id": "359c9a4e-97ed-4e7b-a06e-14d016384b2f",
   "metadata": {},
   "outputs": [],
   "source": [
    "#3 What are mutable and immutable types in Python? Give examples"
   ]
  },
  {
   "cell_type": "markdown",
   "id": "a69cd201-ec45-4a0b-93cd-f432d11bbabd",
   "metadata": {},
   "source": [
    "MUTABLE: Mutable types are the ones which can be made changes or modified.\n",
    "\n",
    "Example: List\n",
    "\n",
    "IMMUTABLE: Immutable types are the ones which can't be changed or modified.\n",
    "\n",
    "Example: Tuple"
   ]
  },
  {
   "cell_type": "code",
   "execution_count": 2,
   "id": "c4b17193-5820-4b3f-8e8c-45c6a04ebc7a",
   "metadata": {},
   "outputs": [],
   "source": [
    "#4 What are Python's data types?"
   ]
  },
  {
   "cell_type": "markdown",
   "id": "0c378883-bbcf-4d24-a62b-91ec6246d0ac",
   "metadata": {},
   "source": [
    "Python Data types:\n",
    "\n",
    "int, str, boolean, float, complex"
   ]
  },
  {
   "cell_type": "code",
   "execution_count": 4,
   "id": "2e389753-a855-41c7-a913-7b4448e672c7",
   "metadata": {},
   "outputs": [],
   "source": [
    "#5 What is the difference between is and == in Python?"
   ]
  },
  {
   "cell_type": "markdown",
   "id": "1d0f7a6f-f4f0-4b68-a3e9-e568fbb956a2",
   "metadata": {},
   "source": [
    "\"is\" : It is used to make comparison between the addresses of values.\n",
    "\n",
    "\"==\" : It is used to comparison between the values."
   ]
  },
  {
   "cell_type": "code",
   "execution_count": 6,
   "id": "f9eea55f-dd7a-40d0-b553-0f6ee22790bc",
   "metadata": {},
   "outputs": [],
   "source": [
    "# Write a program to print the Fibonacci sequence up to n terms"
   ]
  },
  {
   "cell_type": "code",
   "execution_count": 7,
   "id": "3a6b4ef0-e901-4a04-978b-1d53fc3091ff",
   "metadata": {},
   "outputs": [],
   "source": [
    "def fibonacci(n):\n",
    "    a,b=0,1\n",
    "    for i in range(n):\n",
    "        print(a,end=\"  \")\n",
    "        a,b=b,a+b"
   ]
  },
  {
   "cell_type": "code",
   "execution_count": 9,
   "id": "0f10bdf9-40bd-46e5-85cb-f7634db9c76b",
   "metadata": {},
   "outputs": [
    {
     "name": "stdout",
     "output_type": "stream",
     "text": [
      "0  1  1  2  3  5  8  13  21  34  55  89  "
     ]
    }
   ],
   "source": [
    "fibonacci(12)"
   ]
  },
  {
   "cell_type": "code",
   "execution_count": 10,
   "id": "390b648a-b073-4a08-bab9-9c4268a1b954",
   "metadata": {},
   "outputs": [],
   "source": [
    "# Write a program to calculate the factorial of a number using loops."
   ]
  },
  {
   "cell_type": "code",
   "execution_count": 16,
   "id": "3668a938-89f5-4b0c-8868-23d69a4b998e",
   "metadata": {},
   "outputs": [],
   "source": [
    "def fact(n):\n",
    "    f=1\n",
    "    for i in range(1,n+1):\n",
    "        f = f * i\n",
    "    return f"
   ]
  },
  {
   "cell_type": "code",
   "execution_count": 21,
   "id": "f715ba99-063d-4406-b95b-535674e2944c",
   "metadata": {},
   "outputs": [
    {
     "data": {
      "text/plain": [
       "24"
      ]
     },
     "execution_count": 21,
     "metadata": {},
     "output_type": "execute_result"
    }
   ],
   "source": [
    "fact(4)"
   ]
  },
  {
   "cell_type": "code",
   "execution_count": 43,
   "id": "2374123b-b49c-4373-bb2c-022b4cfd3647",
   "metadata": {},
   "outputs": [],
   "source": [
    "#18 write a lambda function to return squares of a list of numbers."
   ]
  },
  {
   "cell_type": "code",
   "execution_count": 64,
   "id": "fce7cdac-fcda-441e-a9c0-3a5f58af79f1",
   "metadata": {},
   "outputs": [],
   "source": [
    "n=lambda x: x*x"
   ]
  },
  {
   "cell_type": "code",
   "execution_count": 66,
   "id": "012c8fcd-6fc0-4484-9e58-d944dbf4e73e",
   "metadata": {},
   "outputs": [
    {
     "data": {
      "text/plain": [
       "16"
      ]
     },
     "execution_count": 66,
     "metadata": {},
     "output_type": "execute_result"
    }
   ],
   "source": [
    "n(4)"
   ]
  },
  {
   "cell_type": "code",
   "execution_count": 67,
   "id": "ccc464c5-7979-4c44-a53c-6fdb77692034",
   "metadata": {},
   "outputs": [],
   "source": [
    "#20 Write a function using *args and **kwargs."
   ]
  },
  {
   "cell_type": "code",
   "execution_count": null,
   "id": "9a37c743-b167-4cd9-93a1-91215c045df8",
   "metadata": {},
   "outputs": [],
   "source": []
  }
 ],
 "metadata": {
  "kernelspec": {
   "display_name": "Python 3 (ipykernel)",
   "language": "python",
   "name": "python3"
  },
  "language_info": {
   "codemirror_mode": {
    "name": "ipython",
    "version": 3
   },
   "file_extension": ".py",
   "mimetype": "text/x-python",
   "name": "python",
   "nbconvert_exporter": "python",
   "pygments_lexer": "ipython3",
   "version": "3.13.5"
  }
 },
 "nbformat": 4,
 "nbformat_minor": 5
}
