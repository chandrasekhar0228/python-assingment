{
 "cells": [
  {
   "cell_type": "code",
   "execution_count": 1,
   "id": "359c9a4e-97ed-4e7b-a06e-14d016384b2f",
   "metadata": {},
   "outputs": [],
   "source": [
    "#3 What are mutable and immutable types in Python? Give examples"
   ]
  },
  {
   "cell_type": "markdown",
   "id": "a69cd201-ec45-4a0b-93cd-f432d11bbabd",
   "metadata": {},
   "source": [
    "MUTABLE: Mutable types are the ones which can be made changes or modified.\n",
    "\n",
    "Example: List\n",
    "\n",
    "IMMUTABLE: Immutable types are the ones which can't be changed or modified.\n",
    "\n",
    "Example: Tuple"
   ]
  },
  {
   "cell_type": "code",
   "execution_count": 2,
   "id": "c4b17193-5820-4b3f-8e8c-45c6a04ebc7a",
   "metadata": {},
   "outputs": [],
   "source": [
    "#4 What are Python's data types?"
   ]
  },
  {
   "cell_type": "markdown",
   "id": "0c378883-bbcf-4d24-a62b-91ec6246d0ac",
   "metadata": {},
   "source": [
    "Python Data types:\n",
    "\n",
    "int, str, boolean, float, complex"
   ]
  },
  {
   "cell_type": "code",
   "execution_count": 4,
   "id": "2e389753-a855-41c7-a913-7b4448e672c7",
   "metadata": {},
   "outputs": [],
   "source": [
    "#5 What is the difference between is and == in Python?"
   ]
  },
  {
   "cell_type": "markdown",
   "id": "1d0f7a6f-f4f0-4b68-a3e9-e568fbb956a2",
   "metadata": {},
   "source": [
    "\"is\" : It is used to make comparison between the addresses of values.\n",
    "\n",
    "\"==\" : It is used to comparison between the values."
   ]
  },
  {
   "cell_type": "code",
   "execution_count": 6,
   "id": "f9eea55f-dd7a-40d0-b553-0f6ee22790bc",
   "metadata": {},
   "outputs": [],
   "source": [
    "# Write a program to print the Fibonacci sequence up to n terms"
   ]
  },
  {
   "cell_type": "code",
   "execution_count": 7,
   "id": "3a6b4ef0-e901-4a04-978b-1d53fc3091ff",
   "metadata": {},
   "outputs": [],
   "source": [
    "def fibonacci(n):\n",
    "    a,b=0,1\n",
    "    for i in range(n):\n",
    "        print(a,end=\"  \")\n",
    "        a,b=b,a+b"
   ]
  },
  {
   "cell_type": "code",
   "execution_count": 9,
   "id": "0f10bdf9-40bd-46e5-85cb-f7634db9c76b",
   "metadata": {},
   "outputs": [
    {
     "name": "stdout",
     "output_type": "stream",
     "text": [
      "0  1  1  2  3  5  8  13  21  34  55  89  "
     ]
    }
   ],
   "source": [
    "fibonacci(12)"
   ]
  },
  {
   "cell_type": "code",
   "execution_count": 10,
   "id": "390b648a-b073-4a08-bab9-9c4268a1b954",
   "metadata": {},
   "outputs": [],
   "source": [
    "# Write a program to calculate the factorial of a number using loops."
   ]
  },
  {
   "cell_type": "code",
   "execution_count": 16,
   "id": "3668a938-89f5-4b0c-8868-23d69a4b998e",
   "metadata": {},
   "outputs": [],
   "source": [
    "def fact(n):\n",
    "    f=1\n",
    "    for i in range(1,n+1):\n",
    "        f = f * i\n",
    "    return f"
   ]
  },
  {
   "cell_type": "code",
   "execution_count": 21,
   "id": "f715ba99-063d-4406-b95b-535674e2944c",
   "metadata": {},
   "outputs": [
    {
     "data": {
      "text/plain": [
       "24"
      ]
     },
     "execution_count": 21,
     "metadata": {},
     "output_type": "execute_result"
    }
   ],
   "source": [
    "fact(4)"
   ]
  },
  {
   "cell_type": "code",
   "execution_count": 43,
   "id": "2374123b-b49c-4373-bb2c-022b4cfd3647",
   "metadata": {},
   "outputs": [],
   "source": [
    "#18 write a lambda function to return squares of a list of numbers."
   ]
  },
  {
   "cell_type": "code",
   "execution_count": 64,
   "id": "fce7cdac-fcda-441e-a9c0-3a5f58af79f1",
   "metadata": {},
   "outputs": [],
   "source": [
    "n=lambda x: x*x"
   ]
  },
  {
   "cell_type": "code",
   "execution_count": 66,
   "id": "012c8fcd-6fc0-4484-9e58-d944dbf4e73e",
   "metadata": {},
   "outputs": [
    {
     "data": {
      "text/plain": [
       "16"
      ]
     },
     "execution_count": 66,
     "metadata": {},
     "output_type": "execute_result"
    }
   ],
   "source": [
    "n(4)"
   ]
  },
  {
   "cell_type": "code",
   "execution_count": 8,
   "id": "9bf1b270-3769-4012-84f8-6652b508dd58",
   "metadata": {},
   "outputs": [],
   "source": [
    "def is_leap_year(year):\n",
    "  if (year % 4 == 0 and year % 100 != 0) or (year % 400 == 0):\n",
    "    return True\n",
    "  else:\n",
    "    return False"
   ]
  },
  {
   "cell_type": "code",
   "execution_count": 9,
   "id": "ddb130ca-060e-4800-bf00-c0f723e9222a",
   "metadata": {},
   "outputs": [
    {
     "data": {
      "text/plain": [
       "False"
      ]
     },
     "execution_count": 9,
     "metadata": {},
     "output_type": "execute_result"
    }
   ],
   "source": [
    "is_leap_year(2002)"
   ]
  },
  {
   "cell_type": "code",
   "execution_count": 13,
   "id": "3919bedb-09bc-44d4-b6b7-b7ef1b832b99",
   "metadata": {},
   "outputs": [
    {
     "name": "stdin",
     "output_type": "stream",
     "text": [
      "Enter the text:  sekhar is studying in aimnxt\n"
     ]
    },
    {
     "name": "stdout",
     "output_type": "stream",
     "text": [
      "Your input has been saved to 'user_input.txt'\n"
     ]
    }
   ],
   "source": [
    "user_text = input(\"Enter the text: \")\n",
    "with open(\"user_input.txt\", \"w\") as file:\n",
    "    file.write(user_text)\n",
    "print(\"Your input has been saved to 'user_input.txt'\")"
   ]
  },
  {
   "cell_type": "code",
   "execution_count": 14,
   "id": "8b09cd5e-167b-4d7a-8272-1a4bae9894f5",
   "metadata": {},
   "outputs": [
    {
     "name": "stdout",
     "output_type": "stream",
     "text": [
      "Number of lines: 1\n",
      "Number of words: 5\n"
     ]
    }
   ],
   "source": [
    "with open(\"user_input.txt\", \"r\") as file:\n",
    "    lines = file.readlines()\n",
    "num_lines = len(lines)\n",
    "num_words = 0\n",
    "for line in lines:\n",
    "    words = line.split()\n",
    "    num_words += len(words)\n",
    "\n",
    "print(f\"Number of lines: {num_lines}\")\n",
    "print(f\"Number of words: {num_words}\")\n"
   ]
  },
  {
   "cell_type": "code",
   "execution_count": null,
   "id": "448b329a-925d-4bd0-8c3f-0afd2cc1e190",
   "metadata": {},
   "outputs": [],
   "source": []
  }
 ],
 "metadata": {
  "kernelspec": {
   "display_name": "Python 3 (ipykernel)",
   "language": "python",
   "name": "python3"
  },
  "language_info": {
   "codemirror_mode": {
    "name": "ipython",
    "version": 3
   },
   "file_extension": ".py",
   "mimetype": "text/x-python",
   "name": "python",
   "nbconvert_exporter": "python",
   "pygments_lexer": "ipython3",
   "version": "3.13.5"
  }
 },
 "nbformat": 4,
 "nbformat_minor": 5
}
