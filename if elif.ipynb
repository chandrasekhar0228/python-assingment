{
 "cells": [
  {
   "cell_type": "code",
   "execution_count": 2,
   "id": "920ecdef-05fd-4d28-9a75-e4a86aa93843",
   "metadata": {},
   "outputs": [
    {
     "name": "stdin",
     "output_type": "stream",
     "text": [
      "Enter a number:  15\n"
     ]
    },
    {
     "name": "stdout",
     "output_type": "stream",
     "text": [
      "Odd number: 15\n"
     ]
    }
   ],
   "source": [
    "#1. Write a program that takes a number as input and prints whether it is even or odd.\n",
    "n = int(input(\"Enter a number: \"))\n",
    "if n % 2 == 0:\n",
    "    print(\"Even number:\", n)\n",
    "else:\n",
    "    print(\"Odd number:\", n)"
   ]
  },
  {
   "cell_type": "code",
   "execution_count": 3,
   "id": "811c3ff5-ab07-4c7f-a509-9290302f2303",
   "metadata": {},
   "outputs": [
    {
     "name": "stdin",
     "output_type": "stream",
     "text": [
      "enter a number: 1\n"
     ]
    },
    {
     "name": "stdout",
     "output_type": "stream",
     "text": [
      "positive number 1\n"
     ]
    }
   ],
   "source": [
    "#2. Positive, Negative, or Zero\n",
    "\n",
    "num = int(input(\"enter a number:\"))\n",
    "if num >0:\n",
    "    print(\"positive number\",num)\n",
    "elif num  < 0:\n",
    "    print(\"negative number\",num)\n",
    "else:\n",
    "    print(\"zero\")"
   ]
  },
  {
   "cell_type": "code",
   "execution_count": 5,
   "id": "699b203b-8154-4e0d-8476-d86d8fbf6f1e",
   "metadata": {},
   "outputs": [
    {
     "name": "stdin",
     "output_type": "stream",
     "text": [
      "enter person age: 21\n"
     ]
    },
    {
     "name": "stdout",
     "output_type": "stream",
     "text": [
      "eligible for vote 21\n"
     ]
    }
   ],
   "source": [
    "#3. Ask the user for their age and print whether they are eligible to vote (18 or older).\n",
    "age=int(input(\"enter person age:\"))\n",
    "if age>=18:\n",
    "    print(\"eligible for vote\",age)\n",
    "else:\n",
    "    print(\"not eligible for vote\",age)"
   ]
  },
  {
   "cell_type": "code",
   "execution_count": 6,
   "id": "c7a51a6d-1d97-40b4-ba31-de6cafdf5bcd",
   "metadata": {},
   "outputs": [
    {
     "name": "stdin",
     "output_type": "stream",
     "text": [
      "enter a value: 12\n",
      "enter b value: 14\n"
     ]
    },
    {
     "name": "stdout",
     "output_type": "stream",
     "text": [
      "b is largest number 14\n"
     ]
    }
   ],
   "source": [
    "#4. Write a program to find the larger of two numbers entered by the user.\n",
    "a = int(input(\"enter a value:\"))\n",
    "b = int(input(\"enter b value:\"))\n",
    "if (a>b):\n",
    "    print(\"a is largest number\",a)\n",
    "else:\n",
    "    print(\"b is largest number\",b)"
   ]
  },
  {
   "cell_type": "code",
   "execution_count": 7,
   "id": "159902ee-f877-43c0-9bcd-1662f9c4a80e",
   "metadata": {},
   "outputs": [
    {
     "name": "stdin",
     "output_type": "stream",
     "text": [
      "enter a mark: 87\n"
     ]
    },
    {
     "name": "stdout",
     "output_type": "stream",
     "text": [
      "excellent 87\n"
     ]
    }
   ],
   "source": [
    "#5. Ask the user to enter a mark (0–100). Print:\n",
    "\n",
    "#\"Fail\" if below 40\n",
    "\n",
    "#\"Pass\" if 40–59\n",
    "\n",
    "#\"Good\" if 60–79\n",
    "\n",
    "#\"Excellent\" if 80–100\n",
    "\n",
    "#\"Invalid mark\" otherwise\n",
    "mark = int(input(\"enter a mark:\"))\n",
    "if mark >= 80:\n",
    "    print(\"excellent\",mark)\n",
    "elif mark < 80:\n",
    "    print(\"good\",mark)\n",
    "elif mark < 60:\n",
    "    print(\"pass\",mark)\n",
    "elif mark < 40:\n",
    "    print(\"fail\",mark)\n",
    "else:\n",
    "    print(\"invalid mark\")"
   ]
  },
  {
   "cell_type": "code",
   "execution_count": 8,
   "id": "7d7aad81-2476-496f-bd0c-d640f3b529a9",
   "metadata": {},
   "outputs": [
    {
     "name": "stdin",
     "output_type": "stream",
     "text": [
      "Enter a mark (0–100):  91\n"
     ]
    },
    {
     "name": "stdout",
     "output_type": "stream",
     "text": [
      "Excellent\n"
     ]
    }
   ],
   "source": [
    "mark = int(input(\"Enter a mark (0–100): \"))\n",
    "\n",
    "if 0 <= mark <= 100:\n",
    "    if mark < 40:\n",
    "        print(\"Fail\")        \n",
    "    elif mark < 60:\n",
    "        print(\"Pass\")        \n",
    "    elif mark < 80:\n",
    "        print(\"Good\")        \n",
    "    else:\n",
    "        print(\"Excellent\")   \n",
    "else:\n",
    "    print(\"Invalid mark\")    "
   ]
  },
  {
   "cell_type": "code",
   "execution_count": 9,
   "id": "7362edeb-c261-4ce4-abb0-35605a12c019",
   "metadata": {},
   "outputs": [
    {
     "name": "stdin",
     "output_type": "stream",
     "text": [
      "enter a year: 2002\n"
     ]
    },
    {
     "name": "stdout",
     "output_type": "stream",
     "text": [
      "not leap year\n"
     ]
    }
   ],
   "source": [
    "#6. Ask the user to enter a year and check if it's a leap year or not.\n",
    "year = int(input(\"enter a year:\"))\n",
    "if year%4==0:\n",
    "    print(\"leap year\")\n",
    "else:\n",
    "    print(\"not leap year\")"
   ]
  },
  {
   "cell_type": "code",
   "execution_count": 10,
   "id": "81af9b70-f124-4ef3-b83e-6e0108f4ec81",
   "metadata": {},
   "outputs": [
    {
     "name": "stdin",
     "output_type": "stream",
     "text": [
      "enter a password: OpenAI123\n"
     ]
    },
    {
     "name": "stdout",
     "output_type": "stream",
     "text": [
      "Access granted\n"
     ]
    }
   ],
   "source": [
    "#7. Ask the user to enter a password and check if it matches \"OpenAI123\".\n",
    "password = input(\"enter a password:\")\n",
    "if password == \"OpenAI123\":\n",
    "    print(\"Access granted\")\n",
    "else:\n",
    "    print(\"incorrect password\")"
   ]
  },
  {
   "cell_type": "code",
   "execution_count": 11,
   "id": "45582d7a-2cb0-44c5-9163-40f03da4ee98",
   "metadata": {},
   "outputs": [
    {
     "name": "stdout",
     "output_type": "stream",
     "text": [
      "Buss\n"
     ]
    }
   ],
   "source": [
    "#8. Write a program that checks:\n",
    "\n",
    "#If a number is divisible by both 3 and 5 → print \"FizzBuzz\"\n",
    "\n",
    "#If only divisible by 3 → print \"Fizz\"\n",
    "\n",
    "#If only divisible by 5 → print \"Buzz\"\n",
    "\n",
    "#Otherwise → print the number\n",
    "n = 20\n",
    "if n % 3==0 and n% 5==0:\n",
    "    print(\"FizzBuss\")\n",
    "elif n%3==0:\n",
    "    print(\"Fizz\")\n",
    "elif n%5==0:\n",
    "    print(\"Buss\")\n",
    "else:\n",
    "    print(\"number\",n)"
   ]
  },
  {
   "cell_type": "code",
   "execution_count": 13,
   "id": "3b931789-6d75-4f53-82c6-914691fc9f58",
   "metadata": {},
   "outputs": [
    {
     "name": "stdin",
     "output_type": "stream",
     "text": [
      "enter a value: 2\n",
      "enter b value: 2\n",
      "enter c value: 2\n"
     ]
    },
    {
     "name": "stdout",
     "output_type": "stream",
     "text": [
      "equilaterals\n"
     ]
    }
   ],
   "source": [
    "#9. Take 3 sides of a triangle as input and determine whether it’s:\n",
    "\n",
    "#Equilateral (all sides equal)\n",
    "\n",
    "#Isosceles (two sides equal)\n",
    "\n",
    "#Scalene (all sides different)\n",
    "\n",
    "a = int(input(\"enter a value:\"))\n",
    "b = int(input(\"enter b value:\"))\n",
    "c = int(input(\"enter c value:\"))\n",
    "if a == b == c:\n",
    "    print(\"equilaterals\")\n",
    "elif a==b or b==c or c==a:\n",
    "      print(\"isoscales\")\n",
    "else:\n",
    "    print(\"scalene\")"
   ]
  },
  {
   "cell_type": "code",
   "execution_count": 14,
   "id": "8c686da3-4ba6-451d-9644-ee7e4f969e8e",
   "metadata": {},
   "outputs": [
    {
     "name": "stdin",
     "output_type": "stream",
     "text": [
      "enter a hour (0-23): 12\n"
     ]
    },
    {
     "name": "stdout",
     "output_type": "stream",
     "text": [
      "good afternoon\n"
     ]
    }
   ],
   "source": [
    "#10. Ask the user to enter the current hour (0–23), and display:\n",
    "\n",
    "#\"Good Morning\" (5–11)\n",
    "\n",
    "#\"Good Afternoon\" (12–16)\n",
    "\n",
    "#\"Good Evening\" (17–20)\n",
    "\n",
    "#\"Good Night\" (21–4)\n",
    "\n",
    "hour = int(input(\"enter a hour (0-23):\"))\n",
    "if hour<=11:\n",
    "    print(\"good morning\")\n",
    "elif hour <=16:\n",
    "    print(\"good afternoon\")\n",
    "elif hour <= 20:\n",
    "    print(\"good evening\")\n",
    "else:\n",
    "    print(\"good night\")"
   ]
  },
  {
   "cell_type": "code",
   "execution_count": null,
   "id": "cc1d3564-804c-4197-a5d9-496e71d86c19",
   "metadata": {},
   "outputs": [],
   "source": []
  }
 ],
 "metadata": {
  "kernelspec": {
   "display_name": "Python 3 (ipykernel)",
   "language": "python",
   "name": "python3"
  },
  "language_info": {
   "codemirror_mode": {
    "name": "ipython",
    "version": 3
   },
   "file_extension": ".py",
   "mimetype": "text/x-python",
   "name": "python",
   "nbconvert_exporter": "python",
   "pygments_lexer": "ipython3",
   "version": "3.13.5"
  }
 },
 "nbformat": 4,
 "nbformat_minor": 5
}
